{
 "cells": [
  {
   "cell_type": "code",
   "execution_count": 52,
   "id": "initial_id",
   "metadata": {
    "collapsed": true,
    "ExecuteTime": {
     "end_time": "2023-11-10T19:04:01.729745500Z",
     "start_time": "2023-11-10T19:04:01.495644Z"
    }
   },
   "outputs": [],
   "source": [
    "import numpy as np"
   ]
  },
  {
   "cell_type": "code",
   "execution_count": 53,
   "outputs": [],
   "source": [
    "def readFile(name):\n",
    "    return np.loadtxt(name, delimiter = \";\", dtype = float)"
   ],
   "metadata": {
    "collapsed": false,
    "ExecuteTime": {
     "end_time": "2023-11-10T19:04:01.729745500Z",
     "start_time": "2023-11-10T19:04:01.504069900Z"
    }
   },
   "id": "bc1c3210d4b3015"
  },
  {
   "cell_type": "markdown",
   "source": [
    "Створимо функцію яка повертає компонент власного вектора матриці (середнє значення оцінок пріорітетності)"
   ],
   "metadata": {
    "collapsed": false
   },
   "id": "9fd4499c57255719"
  },
  {
   "cell_type": "code",
   "execution_count": 54,
   "outputs": [],
   "source": [
    "def getAveragePrirityValue(matrix):\n",
    "    W = {}\n",
    "    for i, row in enumerate(matrix):\n",
    "        mul = 1\n",
    "        for j, value in enumerate(matrix[i]):\n",
    "            mul *= matrix[i][j]\n",
    "        W[i] = mul ** (1. / len(matrix[i]))\n",
    "    return W"
   ],
   "metadata": {
    "collapsed": false,
    "ExecuteTime": {
     "end_time": "2023-11-10T19:04:01.832524500Z",
     "start_time": "2023-11-10T19:04:01.523023300Z"
    }
   },
   "id": "57404d951d866971"
  },
  {
   "cell_type": "markdown",
   "source": [
    "Створимо функцію яка повертає нормований вектор (вектор пріорітетів)"
   ],
   "metadata": {
    "collapsed": false
   },
   "id": "91cb7ae025e34f09"
  },
  {
   "cell_type": "code",
   "execution_count": 55,
   "outputs": [],
   "source": [
    "def getNormalizeVec(W):\n",
    "    Wnormalize = {}\n",
    "    _sum = 0.\n",
    "    for index, row in enumerate(W):\n",
    "        _sum += W[index]\n",
    "    for index, row in enumerate(W):\n",
    "        Wnormalize[index] = W[index] / _sum\n",
    "    return Wnormalize"
   ],
   "metadata": {
    "collapsed": false,
    "ExecuteTime": {
     "end_time": "2023-11-10T19:04:01.859744500Z",
     "start_time": "2023-11-10T19:04:01.538208900Z"
    }
   },
   "id": "cf3d89aad5dbc8cb"
  },
  {
   "cell_type": "markdown",
   "source": [
    "Створимо функцію яка повертає середнє значення пріорітетності критеріїв"
   ],
   "metadata": {
    "collapsed": false
   },
   "id": "5b738e41fcca08f"
  },
  {
   "cell_type": "code",
   "execution_count": 56,
   "outputs": [],
   "source": [
    "def getMO(MergedWnorm):\n",
    "    MO = {}\n",
    "    for i, row in enumerate(MergedWnorm):\n",
    "        mul = 1\n",
    "        for j, value in enumerate(MergedWnorm[i]):\n",
    "            mul *= MergedWnorm[j][i]\n",
    "        MO[i] = mul ** (1. / len(MergedWnorm[i]))\n",
    "    return MO"
   ],
   "metadata": {
    "collapsed": false,
    "ExecuteTime": {
     "end_time": "2023-11-10T19:04:01.862383200Z",
     "start_time": "2023-11-10T19:04:01.551168200Z"
    }
   },
   "id": "89e768bfaa9d51f3"
  },
  {
   "cell_type": "markdown",
   "source": [
    "Зчитуємо матриці попарних порівнянь суджень трьох експертів"
   ],
   "metadata": {
    "collapsed": false
   },
   "id": "21fb3f06dd62076"
  },
  {
   "cell_type": "code",
   "execution_count": 57,
   "outputs": [
    {
     "name": "stdout",
     "output_type": "stream",
     "text": [
      "EXPERT 1\n",
      " [[1.         5.         6.        ]\n",
      " [0.2        1.         3.        ]\n",
      " [0.16666667 0.33333333 1.        ]] \n",
      "\n",
      "EXPERT 2\n",
      " [[1.         3.         9.        ]\n",
      " [0.33333333 1.         5.        ]\n",
      " [0.11111111 0.2        1.        ]] \n",
      "\n",
      "EXPERT 3\n",
      " [[1.         9.         9.        ]\n",
      " [0.11111111 1.         2.        ]\n",
      " [0.11111111 0.5        1.        ]] \n"
     ]
    }
   ],
   "source": [
    "experts_matrix = readFile(\"1.csv\")\n",
    "\n",
    "matrix1 = experts_matrix[:3]\n",
    "matrix2 = experts_matrix[3:6]\n",
    "matrix3 = experts_matrix[6:9]\n",
    "\n",
    "print('EXPERT 1\\n', matrix1, '\\n')\n",
    "print('EXPERT 2\\n', matrix2, '\\n')\n",
    "print('EXPERT 3\\n', matrix3, '\\n')"
   ],
   "metadata": {
    "collapsed": false,
    "ExecuteTime": {
     "end_time": "2023-11-10T19:04:01.883567Z",
     "start_time": "2023-11-10T19:04:01.566133Z"
    }
   },
   "id": "40c2dd0ee0f84cab"
  },
  {
   "cell_type": "markdown",
   "source": [
    "Знаходимо середнє значення оцінок пріорітетності"
   ],
   "metadata": {
    "collapsed": false
   },
   "id": "2128a74ea8eb093e"
  },
  {
   "cell_type": "code",
   "execution_count": 58,
   "outputs": [
    {
     "name": "stdout",
     "output_type": "stream",
     "text": [
      "EXPERT 1\n",
      " {0: 3.1072325059538586, 1: 0.8434326653017493, 2: 0.38157141431163444} \n",
      "\n",
      "EXPERT 2\n",
      " {0: 3.0, 1: 1.1856311011014773, 2: 0.28114422167353503} \n",
      "\n",
      "EXPERT 3\n",
      " {0: 4.3267487109222245, 1: 0.6057068640754776, 2: 0.3815714140572535} \n"
     ]
    }
   ],
   "source": [
    "matrix1_W = getAveragePrirityValue(matrix1)\n",
    "matrix2_W = getAveragePrirityValue(matrix2)\n",
    "matrix3_W = getAveragePrirityValue(matrix3)\n",
    "\n",
    "print('EXPERT 1\\n', matrix1_W, '\\n')\n",
    "print('EXPERT 2\\n', matrix2_W, '\\n')\n",
    "print('EXPERT 3\\n', matrix3_W, '\\n')"
   ],
   "metadata": {
    "collapsed": false,
    "ExecuteTime": {
     "end_time": "2023-11-10T19:04:01.886349800Z",
     "start_time": "2023-11-10T19:04:01.580637700Z"
    }
   },
   "id": "e9025e6b0b8f7b2f"
  },
  {
   "cell_type": "markdown",
   "source": [
    "Знаходимо нормований вектор матриці попарних порівнянь"
   ],
   "metadata": {
    "collapsed": false
   },
   "id": "e2ec60e21f8cf08c"
  },
  {
   "cell_type": "code",
   "execution_count": 59,
   "outputs": [
    {
     "name": "stdout",
     "output_type": "stream",
     "text": [
      "EXPERT 1\n",
      " {0: 0.7172351843169277, 1: 0.19468758195515637, 2: 0.08807723372791591} \n",
      "\n",
      "EXPERT 2\n",
      " {0: 0.6716254530877616, 1: 0.2654333418240738, 2: 0.06294120508816468} \n",
      "\n",
      "EXPERT 3\n",
      " {0: 0.8142127843599251, 1: 0.11398264730740411, 2: 0.0718045683326708} \n"
     ]
    }
   ],
   "source": [
    "matrix1_Wnorm = getNormalizeVec(matrix1_W)\n",
    "matrix2_Wnorm = getNormalizeVec(matrix2_W)\n",
    "matrix3_Wnorm = getNormalizeVec(matrix3_W)\n",
    "\n",
    "print('EXPERT 1\\n', matrix1_Wnorm, '\\n')\n",
    "print('EXPERT 2\\n', matrix2_Wnorm, '\\n')\n",
    "print('EXPERT 3\\n', matrix3_Wnorm, '\\n')"
   ],
   "metadata": {
    "collapsed": false,
    "ExecuteTime": {
     "end_time": "2023-11-10T19:04:01.906296100Z",
     "start_time": "2023-11-10T19:04:01.592118600Z"
    }
   },
   "id": "25b5193f31f1eb2b"
  },
  {
   "cell_type": "markdown",
   "source": [
    "Знаходимо середнє значення пріорітетів"
   ],
   "metadata": {
    "collapsed": false
   },
   "id": "52f6e97f361ed993"
  },
  {
   "cell_type": "code",
   "execution_count": 60,
   "outputs": [
    {
     "name": "stdout",
     "output_type": "stream",
     "text": [
      "{0: 0.7319962955730153, 1: 0.1805971206437491, 2: 0.07356144728906394}\n"
     ]
    }
   ],
   "source": [
    "merged_Wnorm = [matrix1_Wnorm, matrix2_Wnorm, matrix3_Wnorm]\n",
    "\n",
    "MO = getMO(merged_Wnorm)\n",
    "\n",
    "print(MO)"
   ],
   "metadata": {
    "collapsed": false,
    "ExecuteTime": {
     "end_time": "2023-11-10T19:04:01.908290700Z",
     "start_time": "2023-11-10T19:04:01.608510Z"
    }
   },
   "id": "4bbddc80c1e14e5"
  },
  {
   "cell_type": "markdown",
   "source": [
    "Зчитуємо матриці попарних порівнянь альтернатив кожного експерта для визначення першого критерію"
   ],
   "metadata": {
    "collapsed": false
   },
   "id": "cda432abb5066dc"
  },
  {
   "cell_type": "code",
   "execution_count": 61,
   "outputs": [
    {
     "name": "stdout",
     "output_type": "stream",
     "text": [
      "EXPERT 1\n",
      " [[1.   0.33 3.   7.  ]\n",
      " [3.   1.   5.   9.  ]\n",
      " [0.33 0.2  1.   5.  ]\n",
      " [0.14 0.11 0.2  1.  ]] \n",
      "\n",
      "EXPERT 2\n",
      " [[1.         0.5        5.         4.        ]\n",
      " [2.         1.         6.         9.        ]\n",
      " [0.2        0.17       1.         6.        ]\n",
      " [0.25       0.11       0.16666667 1.        ]] \n",
      "\n",
      "EXPERT 3\n",
      " [[1.         1.         3.         5.        ]\n",
      " [1.         1.         6.         9.        ]\n",
      " [0.33333333 0.16666667 1.         3.        ]\n",
      " [0.2        0.11111111 0.33333333 1.        ]] \n"
     ]
    }
   ],
   "source": [
    "experts_matrix = readFile(\"2.csv\")\n",
    "\n",
    "matrix1 = experts_matrix[:4]\n",
    "matrix2 = experts_matrix[4:8]\n",
    "matrix3 = experts_matrix[8:12]\n",
    "\n",
    "print('EXPERT 1\\n', matrix1, '\\n')\n",
    "print('EXPERT 2\\n', matrix2, '\\n')\n",
    "print('EXPERT 3\\n', matrix3, '\\n')"
   ],
   "metadata": {
    "collapsed": false,
    "ExecuteTime": {
     "end_time": "2023-11-10T19:04:01.916358800Z",
     "start_time": "2023-11-10T19:04:01.629643800Z"
    }
   },
   "id": "798cb144cede4f6c"
  },
  {
   "cell_type": "code",
   "execution_count": 62,
   "outputs": [
    {
     "name": "stdout",
     "output_type": "stream",
     "text": [
      "EXPERT 1\n",
      " {0: 1.6224947815686916, 1: 3.408658099402498, 2: 0.7579289311365565, 3: 0.23557959950311155} \n",
      "\n",
      "EXPERT 2\n",
      " {0: 1.7782794100389228, 1: 3.2237097954706257, 2: 0.6720592173502634, 3: 0.2601928517587163} \n",
      "\n",
      "EXPERT 3\n",
      " {0: 1.9679896712654303, 1: 2.7108060108295344, 2: 0.6389431044060082, 3: 0.29337057878444583} \n"
     ]
    }
   ],
   "source": [
    "matrix1_W = getAveragePrirityValue(matrix1)\n",
    "matrix2_W = getAveragePrirityValue(matrix2)\n",
    "matrix3_W = getAveragePrirityValue(matrix3)\n",
    "\n",
    "print('EXPERT 1\\n', matrix1_W, '\\n')\n",
    "print('EXPERT 2\\n', matrix2_W, '\\n')\n",
    "print('EXPERT 3\\n', matrix3_W, '\\n')"
   ],
   "metadata": {
    "collapsed": false,
    "ExecuteTime": {
     "end_time": "2023-11-10T19:04:01.950147300Z",
     "start_time": "2023-11-10T19:04:01.639437500Z"
    }
   },
   "id": "173dc707ef31e16b"
  },
  {
   "cell_type": "code",
   "execution_count": 63,
   "outputs": [
    {
     "name": "stdout",
     "output_type": "stream",
     "text": [
      "EXPERT 1\n",
      " {0: 0.26930887409569354, 1: 0.5657841771544636, 2: 0.12580440282932073, 3: 0.03910254592052218} \n",
      "\n",
      "EXPERT 2\n",
      " {0: 0.2996641571762241, 1: 0.543238747177137, 2: 0.11325107730700848, 3: 0.04384601833963051} \n",
      "\n",
      "EXPERT 3\n",
      " {0: 0.3507309416282114, 1: 0.48311409283886675, 2: 0.11387108373951775, 3: 0.05228388179340415} \n"
     ]
    }
   ],
   "source": [
    "matrix1_Wnorm_K1 = getNormalizeVec(matrix1_W)\n",
    "matrix2_Wnorm_K1 = getNormalizeVec(matrix2_W)\n",
    "matrix3_Wnorm_K1 = getNormalizeVec(matrix3_W)\n",
    "\n",
    "print('EXPERT 1\\n', matrix1_Wnorm_K1, '\\n')\n",
    "print('EXPERT 2\\n', matrix2_Wnorm_K1, '\\n')\n",
    "print('EXPERT 3\\n', matrix3_Wnorm_K1, '\\n')"
   ],
   "metadata": {
    "collapsed": false,
    "ExecuteTime": {
     "end_time": "2023-11-10T19:04:01.951145100Z",
     "start_time": "2023-11-10T19:04:01.645315600Z"
    }
   },
   "id": "2ae14c7ae2a99505"
  },
  {
   "cell_type": "markdown",
   "source": [
    "Зчитуємо матриці попарних порівнянь альтернатив кожного експерта для визначення другого критерію"
   ],
   "metadata": {
    "collapsed": false
   },
   "id": "6cc12e411d7eb291"
  },
  {
   "cell_type": "code",
   "execution_count": 64,
   "outputs": [
    {
     "name": "stdout",
     "output_type": "stream",
     "text": [
      "EXPERT 1\n",
      " [[1.   2.1  4.   0.7 ]\n",
      " [0.48 1.   0.67 0.8 ]\n",
      " [0.25 1.49 1.   0.19]\n",
      " [1.43 1.25 5.26 1.  ]] \n",
      "\n",
      "EXPERT 2\n",
      " [[1.         2.         0.14       0.17      ]\n",
      " [0.5        1.         0.13       0.5       ]\n",
      " [7.14285714 7.69230769 1.         5.        ]\n",
      " [5.88235294 2.         0.2        1.        ]] \n",
      "\n",
      "EXPERT 3\n",
      " [[1.         1.         0.13       0.113     ]\n",
      " [1.         1.         0.113      0.25      ]\n",
      " [7.69230769 8.84955752 1.         3.        ]\n",
      " [8.84955752 4.         0.33333333 1.        ]] \n"
     ]
    }
   ],
   "source": [
    "experts_matrix = readFile(\"3.csv\")\n",
    "\n",
    "matrix1 = experts_matrix[:4]\n",
    "matrix2 = experts_matrix[4:8]\n",
    "matrix3 = experts_matrix[8:12]\n",
    "\n",
    "print('EXPERT 1\\n', matrix1, '\\n')\n",
    "print('EXPERT 2\\n', matrix2, '\\n')\n",
    "print('EXPERT 3\\n', matrix3, '\\n')"
   ],
   "metadata": {
    "collapsed": false,
    "ExecuteTime": {
     "end_time": "2023-11-10T19:04:01.974083900Z",
     "start_time": "2023-11-10T19:04:01.655804Z"
    }
   },
   "id": "5a7aa5cb9f4a2445"
  },
  {
   "cell_type": "code",
   "execution_count": 65,
   "outputs": [
    {
     "name": "stdout",
     "output_type": "stream",
     "text": [
      "EXPERT 1\n",
      " {0: 1.5571997722182045, 1: 0.7121992414294721, 2: 0.5157864983580518, 3: 1.751087906399156} \n",
      "\n",
      "EXPERT 2\n",
      " {0: 0.4670912569217222, 1: 0.42459105474938996, 2: 4.071220775532709, 3: 1.2385192681875126} \n",
      "\n",
      "EXPERT 3\n",
      " {0: 0.3481412216457648, 1: 0.4099723931433873, 2: 3.7802878002014846, 3: 1.8533825646967959} \n"
     ]
    }
   ],
   "source": [
    "matrix1_W = getAveragePrirityValue(matrix1)\n",
    "matrix2_W = getAveragePrirityValue(matrix2)\n",
    "matrix3_W = getAveragePrirityValue(matrix3)\n",
    "\n",
    "print('EXPERT 1\\n', matrix1_W, '\\n')\n",
    "print('EXPERT 2\\n', matrix2_W, '\\n')\n",
    "print('EXPERT 3\\n', matrix3_W, '\\n')"
   ],
   "metadata": {
    "collapsed": false,
    "ExecuteTime": {
     "end_time": "2023-11-10T19:04:01.974083900Z",
     "start_time": "2023-11-10T19:04:01.665931800Z"
    }
   },
   "id": "261c7a598ca9078f"
  },
  {
   "cell_type": "code",
   "execution_count": 66,
   "outputs": [
    {
     "name": "stdout",
     "output_type": "stream",
     "text": [
      "EXPERT 1\n",
      " {0: 0.34327731787511423, 1: 0.15700095116398577, 2: 0.11370269178779367, 3: 0.3860190391731063} \n",
      "\n",
      "EXPERT 2\n",
      " {0: 0.07532002017499209, 1: 0.06846672108702015, 2: 0.6564979035806696, 3: 0.19971535515731814} \n",
      "\n",
      "EXPERT 3\n",
      " {0: 0.05446698805093056, 1: 0.0641405270338056, 2: 0.5914292179170839, 3: 0.28996326699817987} \n"
     ]
    }
   ],
   "source": [
    "matrix1_Wnorm_K2 = getNormalizeVec(matrix1_W)\n",
    "matrix2_Wnorm_K2 = getNormalizeVec(matrix2_W)\n",
    "matrix3_Wnorm_K2 = getNormalizeVec(matrix3_W)\n",
    "\n",
    "print('EXPERT 1\\n', matrix1_Wnorm_K2, '\\n')\n",
    "print('EXPERT 2\\n', matrix2_Wnorm_K2, '\\n')\n",
    "print('EXPERT 3\\n', matrix3_Wnorm_K2, '\\n')"
   ],
   "metadata": {
    "collapsed": false,
    "ExecuteTime": {
     "end_time": "2023-11-10T19:04:01.975080700Z",
     "start_time": "2023-11-10T19:04:01.671505800Z"
    }
   },
   "id": "9e6f4a7084ddb5f5"
  },
  {
   "cell_type": "markdown",
   "source": [
    "Зчитуємо матриці попарних порівнянь альтернатив кожного експерта для визначення третього критерію"
   ],
   "metadata": {
    "collapsed": false
   },
   "id": "778c042a613ae24e"
  },
  {
   "cell_type": "code",
   "execution_count": 67,
   "outputs": [
    {
     "name": "stdout",
     "output_type": "stream",
     "text": [
      "EXPERT 1\n",
      " [[1.   0.61 3.   7.  ]\n",
      " [1.64 1.   6.   7.8 ]\n",
      " [0.33 0.17 1.   5.  ]\n",
      " [0.14 0.13 0.2  1.  ]] \n",
      "\n",
      "EXPERT 2\n",
      " [[1.         0.7        5.         5.        ]\n",
      " [1.42857143 1.         7.         9.        ]\n",
      " [0.2        0.14285714 1.         4.        ]\n",
      " [0.2        0.11111111 0.25       1.        ]] \n",
      "\n",
      "EXPERT 3\n",
      " [[1.         6.         4.         4.        ]\n",
      " [0.16666667 1.         0.67       4.        ]\n",
      " [0.25       1.49253731 1.         2.5       ]\n",
      " [0.25       0.25       0.4        1.        ]] \n"
     ]
    }
   ],
   "source": [
    "experts_matrix = readFile(\"4.csv\")\n",
    "\n",
    "matrix1 = experts_matrix[:4]\n",
    "matrix2 = experts_matrix[4:8]\n",
    "matrix3 = experts_matrix[8:12]\n",
    "\n",
    "print('EXPERT 1\\n', matrix1, '\\n')\n",
    "print('EXPERT 2\\n', matrix2, '\\n')\n",
    "print('EXPERT 3\\n', matrix3, '\\n')"
   ],
   "metadata": {
    "collapsed": false,
    "ExecuteTime": {
     "end_time": "2023-11-10T19:04:01.975080700Z",
     "start_time": "2023-11-10T19:04:01.683914400Z"
    }
   },
   "id": "ae1e37d01ca12fff"
  },
  {
   "cell_type": "code",
   "execution_count": 68,
   "outputs": [
    {
     "name": "stdout",
     "output_type": "stream",
     "text": [
      "EXPERT 1\n",
      " {0: 1.8918525401401285, 1: 2.9598685577662245, 2: 0.7277516795409094, 3: 0.24562657127435017} \n",
      "\n",
      "EXPERT 2\n",
      " {0: 2.0453117446175235, 1: 3.080070288472028, 2: 0.581430737113577, 3: 0.27301208620265366} \n",
      "\n",
      "EXPERT 3\n",
      " {0: 3.1301691601465746, 1: 0.8175152939611866, 2: 0.9827686713910725, 3: 0.3976353643835253} \n"
     ]
    }
   ],
   "source": [
    "matrix1_W = getAveragePrirityValue(matrix1)\n",
    "matrix2_W = getAveragePrirityValue(matrix2)\n",
    "matrix3_W = getAveragePrirityValue(matrix3)\n",
    "\n",
    "print('EXPERT 1\\n', matrix1_W, '\\n')\n",
    "print('EXPERT 2\\n', matrix2_W, '\\n')\n",
    "print('EXPERT 3\\n', matrix3_W, '\\n')"
   ],
   "metadata": {
    "collapsed": false,
    "ExecuteTime": {
     "end_time": "2023-11-10T19:04:01.975604300Z",
     "start_time": "2023-11-10T19:04:01.692214200Z"
    }
   },
   "id": "ba9210d35a63b929"
  },
  {
   "cell_type": "code",
   "execution_count": 69,
   "outputs": [
    {
     "name": "stdout",
     "output_type": "stream",
     "text": [
      "EXPERT 1\n",
      " {0: 0.32477601271389783, 1: 0.508123274913037, 2: 0.12493377983340716, 3: 0.04216693253965803} \n",
      "\n",
      "EXPERT 2\n",
      " {0: 0.34203539296414665, 1: 0.5150770068411882, 2: 0.09723206800793328, 3: 0.0456555321867319} \n",
      "\n",
      "EXPERT 3\n",
      " {0: 0.5874844545263337, 1: 0.15343500685350608, 2: 0.1844505160260151, 3: 0.07463002259414518} \n"
     ]
    }
   ],
   "source": [
    "matrix1_Wnorm_K3 = getNormalizeVec(matrix1_W)\n",
    "matrix2_Wnorm_K3 = getNormalizeVec(matrix2_W)\n",
    "matrix3_Wnorm_K3 = getNormalizeVec(matrix3_W)\n",
    "\n",
    "print('EXPERT 1\\n', matrix1_Wnorm_K3, '\\n')\n",
    "print('EXPERT 2\\n', matrix2_Wnorm_K3, '\\n')\n",
    "print('EXPERT 3\\n', matrix3_Wnorm_K3, '\\n')"
   ],
   "metadata": {
    "collapsed": false,
    "ExecuteTime": {
     "end_time": "2023-11-10T19:04:01.977529500Z",
     "start_time": "2023-11-10T19:04:01.698650100Z"
    }
   },
   "id": "989194b776b9a5e6"
  },
  {
   "cell_type": "code",
   "execution_count": 70,
   "outputs": [
    {
     "name": "stdout",
     "output_type": "stream",
     "text": [
      "{'A': 0.3619448519400242, 'B': 0.4560742884015281, 'C': 0.22421843484525306, 'D': 0.11347542725251972}\n"
     ]
    }
   ],
   "source": [
    "max_Wnorm = {}\n",
    "\n",
    "for index, row in enumerate(matrix3_Wnorm_K1):\n",
    "    max_Wnorm[index] = [\n",
    "        max(matrix1_Wnorm_K1[index], matrix2_Wnorm_K1[index], matrix3_Wnorm_K1[index]),\n",
    "        max(matrix1_Wnorm_K2[index], matrix2_Wnorm_K2[index], matrix3_Wnorm_K2[index]),\n",
    "        max(matrix1_Wnorm_K3[index], matrix2_Wnorm_K3[index], matrix3_Wnorm_K3[index])]\n",
    "    \n",
    "#print(max_Wnorm)\n",
    "\n",
    "global_priority = {}\n",
    "global_priority['A'] = max_Wnorm[0][0] * MO[0] + max_Wnorm[0][1] * MO[1] + max_Wnorm[0][2] * MO[2]\n",
    "global_priority['B'] = max_Wnorm[1][0] * MO[0] + max_Wnorm[1][1] * MO[1] + max_Wnorm[2][2] * MO[2]\n",
    "global_priority['C'] = max_Wnorm[2][0] * MO[0] + max_Wnorm[2][1] * MO[1] + max_Wnorm[2][2] * MO[2]\n",
    "global_priority['D'] = max_Wnorm[3][0] * MO[0] + max_Wnorm[3][1] * MO[1] + max_Wnorm[3][2] * MO[2]\n",
    "\n",
    "print(global_priority)"
   ],
   "metadata": {
    "collapsed": false,
    "ExecuteTime": {
     "end_time": "2023-11-10T19:04:01.981064700Z",
     "start_time": "2023-11-10T19:04:01.712779500Z"
    }
   },
   "id": "6f26a2f26be272d9"
  },
  {
   "cell_type": "code",
   "execution_count": 70,
   "outputs": [],
   "source": [],
   "metadata": {
    "collapsed": false,
    "ExecuteTime": {
     "end_time": "2023-11-10T19:04:01.981064700Z",
     "start_time": "2023-11-10T19:04:01.720251700Z"
    }
   },
   "id": "1773aa6472459e1a"
  }
 ],
 "metadata": {
  "kernelspec": {
   "display_name": "Python 3",
   "language": "python",
   "name": "python3"
  },
  "language_info": {
   "codemirror_mode": {
    "name": "ipython",
    "version": 2
   },
   "file_extension": ".py",
   "mimetype": "text/x-python",
   "name": "python",
   "nbconvert_exporter": "python",
   "pygments_lexer": "ipython2",
   "version": "2.7.6"
  }
 },
 "nbformat": 4,
 "nbformat_minor": 5
}
