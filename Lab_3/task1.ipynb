{
 "cells": [
  {
   "cell_type": "markdown",
   "source": [
    "\n",
    "## Задача №9\n",
    "\n",
    "Видавець звернувся до відділу маркетингу, щоб з'ясувати передбачуваний попит на книгу. Дослідження відділу маркетингу показали:\n",
    "Попит на книгу в найближчі три роки, кількість екз.\t2000\t3000\t4000\t5000\n",
    "Ймовірність\t0,1\t0,5\t0,2\t0,2\n",
    "Прибуток від продажу становить 9 ф. ст. за книгу. Якщо книга не продається, збитки становлять 4 ф. ст. за штуку. Якщо видавець не задовольняє попит, збитки за незадоволений попит складуть 1 ф. ст. (Для підтримки репутації фірми і майбутнього попиту).\n",
    "Визначте, скільки має бути видано книг в розрахунку на трирічний період.\n"
   ],
   "metadata": {
    "collapsed": false
   },
   "id": "2440ea5493b1f4cf"
  },
  {
   "cell_type": "markdown",
   "source": [
    "### Вводимо початкові дані"
   ],
   "metadata": {
    "collapsed": false
   },
   "id": "32042a368fe2c0b0"
  },
  {
   "cell_type": "code",
   "execution_count": 32,
   "outputs": [],
   "source": [
    "demand = [2000, 3000, 4000, 5000]\n",
    "probability_demand = [0.1, 0.5, 0.2, 0.2]\n",
    "profit = 9\n",
    "losses_non_sale = 4\n",
    "losses_not_satisfy = 1"
   ],
   "metadata": {
    "collapsed": false,
    "ExecuteTime": {
     "end_time": "2023-11-30T17:01:06.824788500Z",
     "start_time": "2023-11-30T17:01:06.769716700Z"
    }
   },
   "id": "5cacfbb728f77680"
  },
  {
   "cell_type": "code",
   "execution_count": 33,
   "outputs": [],
   "source": [
    "import pandas as pd\n",
    "import numpy as np"
   ],
   "metadata": {
    "collapsed": false,
    "ExecuteTime": {
     "end_time": "2023-11-30T17:01:06.853388200Z",
     "start_time": "2023-11-30T17:01:06.776703100Z"
    }
   },
   "id": "91751bfee662850c"
  },
  {
   "cell_type": "markdown",
   "source": [
    "### Побудова дерева прийняття рішень"
   ],
   "metadata": {
    "collapsed": false
   },
   "id": "cbe480737faac362"
  },
  {
   "cell_type": "code",
   "execution_count": 34,
   "outputs": [],
   "source": [
    "def calcDecisionTree(_tree_results, _tree_income_results):\n",
    "    for i in range(len(demand)):\n",
    "        temp = []\n",
    "        fullExpectedIncome = 0\n",
    "        fullExpectedExtIncome = 0\n",
    "        for j in range(len(demand)):\n",
    "            soldPerDay = min(demand[i], demand[j])\n",
    "            notSoldPerDay = max(0, demand[i] - demand[j])\n",
    "            expectedIncome = profit * soldPerDay\n",
    "            expectedIncomeExt = expectedIncome - losses_non_sale * notSoldPerDay - losses_not_satisfy * max(0, demand[j] - demand[i])\n",
    "            fullExpectedIncome += expectedIncome * probability_demand[j]\n",
    "            fullExpectedExtIncome += expectedIncomeExt * probability_demand[j]\n",
    "            temp.append([\n",
    "                probability_demand[j],\n",
    "                demand[i],\n",
    "                demand[j],\n",
    "                soldPerDay,\n",
    "                notSoldPerDay,\n",
    "                max(0, demand[j] - demand[i]),\n",
    "                expectedIncome,\n",
    "                expectedIncomeExt,\n",
    "            ])\n",
    "        _tree_results.append(temp)\n",
    "        _tree_income_results.append([fullExpectedIncome, fullExpectedExtIncome])\n"
   ],
   "metadata": {
    "collapsed": false,
    "ExecuteTime": {
     "end_time": "2023-11-30T17:01:06.905966900Z",
     "start_time": "2023-11-30T17:01:06.790248700Z"
    }
   },
   "id": "6459455329ab87e3"
  },
  {
   "cell_type": "markdown",
   "source": [
    "### обчислення дерева прийняття рішень"
   ],
   "metadata": {
    "collapsed": false
   },
   "id": "241ca52b61a8a8e1"
  },
  {
   "cell_type": "code",
   "execution_count": 35,
   "outputs": [],
   "source": [
    "tree_results = []\n",
    "tree_income_results = []\n",
    "\n",
    "calcDecisionTree(tree_results, tree_income_results)\n"
   ],
   "metadata": {
    "collapsed": false,
    "ExecuteTime": {
     "end_time": "2023-11-30T17:01:06.906969100Z",
     "start_time": "2023-11-30T17:01:06.797607100Z"
    }
   },
   "id": "c29adad6b6467799"
  },
  {
   "cell_type": "code",
   "execution_count": 36,
   "outputs": [
    {
     "name": "stdout",
     "output_type": "stream",
     "text": [
      "   Ймовірність попиту  Закупка  Запит  Продан  Не продано  \\\n",
      "0                 0.1     2000   2000    2000           0   \n",
      "1                 0.5     2000   3000    2000           0   \n",
      "2                 0.2     2000   4000    2000           0   \n",
      "3                 0.2     2000   5000    2000           0   \n",
      "\n",
      "   Незадоволений попит  Очікуваний чистий дохід  дохід з урахуванням втрат  \n",
      "0                    0                    18000                      18000  \n",
      "1                 1000                    18000                      17000  \n",
      "2                 2000                    18000                      16000  \n",
      "3                 3000                    18000                      15000  \n",
      "   Ймовірність попиту  Закупка  Запит  Продан  Не продано  \\\n",
      "0                 0.1     3000   2000    2000        1000   \n",
      "1                 0.5     3000   3000    3000           0   \n",
      "2                 0.2     3000   4000    3000           0   \n",
      "3                 0.2     3000   5000    3000           0   \n",
      "\n",
      "   Незадоволений попит  Очікуваний чистий дохід  дохід з урахуванням втрат  \n",
      "0                    0                    18000                      14000  \n",
      "1                    0                    27000                      27000  \n",
      "2                 1000                    27000                      26000  \n",
      "3                 2000                    27000                      25000  \n",
      "   Ймовірність попиту  Закупка  Запит  Продан  Не продано  \\\n",
      "0                 0.1     4000   2000    2000        2000   \n",
      "1                 0.5     4000   3000    3000        1000   \n",
      "2                 0.2     4000   4000    4000           0   \n",
      "3                 0.2     4000   5000    4000           0   \n",
      "\n",
      "   Незадоволений попит  Очікуваний чистий дохід  дохід з урахуванням втрат  \n",
      "0                    0                    18000                      10000  \n",
      "1                    0                    27000                      23000  \n",
      "2                    0                    36000                      36000  \n",
      "3                 1000                    36000                      35000  \n",
      "   Ймовірність попиту  Закупка  Запит  Продан  Не продано  \\\n",
      "0                 0.1     5000   2000    2000        3000   \n",
      "1                 0.5     5000   3000    3000        2000   \n",
      "2                 0.2     5000   4000    4000        1000   \n",
      "3                 0.2     5000   5000    5000           0   \n",
      "\n",
      "   Незадоволений попит  Очікуваний чистий дохід  дохід з урахуванням втрат  \n",
      "0                    0                    18000                       6000  \n",
      "1                    0                    27000                      19000  \n",
      "2                    0                    36000                      32000  \n",
      "3                    0                    45000                      45000  \n"
     ]
    }
   ],
   "source": [
    "for i in range(len(tree_results)):\n",
    "\tprint(pd.DataFrame(\n",
    "        tree_results[i],\n",
    "        columns=[\n",
    "            \"Ймовірність попиту\",\n",
    "            \"Закупка\",\n",
    "            \"Запит\",\n",
    "            \"Продан\",\n",
    "            \"Не продано\",\n",
    "            \"Незадоволений попит\",\n",
    "            \"Очікуваний чистий дохід\",\n",
    "            \"дохід з урахуванням втрат\",\n",
    "\t\t]\n",
    "\t))\n",
    "    "
   ],
   "metadata": {
    "collapsed": false,
    "ExecuteTime": {
     "end_time": "2023-11-30T17:01:06.929136300Z",
     "start_time": "2023-11-30T17:01:06.803714Z"
    }
   },
   "id": "a120004777e6af1f"
  },
  {
   "cell_type": "code",
   "execution_count": 37,
   "outputs": [
    {
     "name": "stdout",
     "output_type": "stream",
     "text": [
      "   чистий дохід  дохід з урахуванням витрат\n",
      "0       18000.0                     16500.0\n",
      "1       26100.0                     25100.0\n",
      "2       29700.0                     26700.0\n",
      "3       31500.0                     25500.0\n"
     ]
    }
   ],
   "source": [
    "print(pd.DataFrame(\n",
    "    tree_income_results,\n",
    "    columns=[\n",
    "            \"чистий дохід\",\n",
    "            \"дохід з урахуванням витрат\",\n",
    "\t\t]\n",
    "))"
   ],
   "metadata": {
    "collapsed": false,
    "ExecuteTime": {
     "end_time": "2023-11-30T17:01:06.931045400Z",
     "start_time": "2023-11-30T17:01:06.848326300Z"
    }
   },
   "id": "5717dbbe8e08a33e"
  },
  {
   "cell_type": "markdown",
   "source": [
    "### Визначення оптимального рішення"
   ],
   "metadata": {
    "collapsed": false
   },
   "id": "24e97a16d831232e"
  },
  {
   "cell_type": "code",
   "execution_count": 38,
   "outputs": [
    {
     "name": "stdout",
     "output_type": "stream",
     "text": [
      "Очікуваний чистий дохід максимальний: альтернатива 4. Дохід: 31500.0 ф. ст.\n",
      "Максимальний дохід з урахуванням втрат: альтернатива 3. Дохід: 26700.0 ф. ст.\n"
     ]
    }
   ],
   "source": [
    "maxExpectedIncome = np.max(tree_income_results, axis=0)[0]\n",
    "alternative = np.where(tree_income_results == maxExpectedIncome)[0][0]\n",
    "\n",
    "print(\n",
    "\t\"Очікуваний чистий дохід максимальний: \"\n",
    "\t\"альтернатива \" + str(alternative + 1) +\n",
    "\t\". Дохід: \" + str(maxExpectedIncome) +\" ф. ст.\"\n",
    ")\n",
    "\n",
    "maxExpectedIncome = np.max(tree_income_results, axis=0)[1]\n",
    "alternative = np.where(tree_income_results == maxExpectedIncome)[0][0]\n",
    "\n",
    "print(\n",
    "\t\"Максимальний дохід з урахуванням втрат: \"\n",
    "\t\"альтернатива \" + str(alternative + 1) +\n",
    "\t\". Дохід: \" + str(maxExpectedIncome) +\" ф. ст.\"\n",
    ")"
   ],
   "metadata": {
    "collapsed": false,
    "ExecuteTime": {
     "end_time": "2023-11-30T17:01:06.933498900Z",
     "start_time": "2023-11-30T17:01:06.853388200Z"
    }
   },
   "id": "d4dc4273545f9d6d"
  },
  {
   "cell_type": "markdown",
   "source": [
    "### Аналіз чутливості прийняття рішень\n",
    "\n",
    "**Перевіримо чи залежить вибір від значень ймовірностей**"
   ],
   "metadata": {
    "collapsed": false
   },
   "id": "9b0cc17d2473469b"
  },
  {
   "cell_type": "code",
   "execution_count": 39,
   "outputs": [
    {
     "name": "stdout",
     "output_type": "stream",
     "text": [
      "[[18000.0, 16000.0], [26100.0, 24600.0], [31500.0, 29000.0], [36000.0, 32000.0]]\n",
      "[[18000.0, 16800.0], [23400.0, 21200.0], [27000.0, 22800.0], [28800.0, 21600.0]]\n",
      "[[18000.0, 16500.0], [25200.0, 23700.0], [28800.0, 25300.0], [31500.0, 25500.0]]\n"
     ]
    }
   ],
   "source": [
    "probability_demand = [0.1, 0.3, 0.1, 0.5]\n",
    "test1 = []\n",
    "calcDecisionTree([], test1)\n",
    "\n",
    "probability_demand = [0.4, 0.2, 0.2, 0.2]\n",
    "test2 = []\n",
    "calcDecisionTree([], test2)\n",
    "\n",
    "probability_demand = [0.2, 0.4, 0.1, 0.3]\n",
    "test3 = []\n",
    "calcDecisionTree([], test3)\n",
    "\n",
    "print(test1)\n",
    "print(test2)\n",
    "print(test3)"
   ],
   "metadata": {
    "collapsed": false,
    "ExecuteTime": {
     "end_time": "2023-11-30T17:01:06.933498900Z",
     "start_time": "2023-11-30T17:01:06.866040600Z"
    }
   },
   "id": "2004f84813312d96"
  },
  {
   "cell_type": "markdown",
   "source": [
    "**З результатів помітно, що при зміні ймовірностей, оптимальне рішення теж змінюється.**"
   ],
   "metadata": {
    "collapsed": false
   },
   "id": "6a745d9f05c887d9"
  },
  {
   "cell_type": "code",
   "execution_count": 39,
   "outputs": [],
   "source": [],
   "metadata": {
    "collapsed": false,
    "ExecuteTime": {
     "end_time": "2023-11-30T17:01:06.933498900Z",
     "start_time": "2023-11-30T17:01:06.872653900Z"
    }
   },
   "id": "fafee54d861d9f0c"
  }
 ],
 "metadata": {
  "kernelspec": {
   "display_name": "Python 3",
   "language": "python",
   "name": "python3"
  },
  "language_info": {
   "codemirror_mode": {
    "name": "ipython",
    "version": 2
   },
   "file_extension": ".py",
   "mimetype": "text/x-python",
   "name": "python",
   "nbconvert_exporter": "python",
   "pygments_lexer": "ipython2",
   "version": "2.7.6"
  }
 },
 "nbformat": 4,
 "nbformat_minor": 5
}
