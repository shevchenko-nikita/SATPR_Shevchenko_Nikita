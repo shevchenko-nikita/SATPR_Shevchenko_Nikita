{
 "cells": [
  {
   "cell_type": "markdown",
   "source": [
    "\n",
    "## Задача №6\n",
    "\n",
    "Пекарня пече хліб на продаж магазинам. Собівартість однієї булки становить 30 пенсів, її продають за 40 пенсів. У таблиці наведено дані про попит за останні 50 днів:\n",
    "Попит на день, тис. шт.\t10\t12\t14\t16\t18\n",
    "Число днів\t5\t10\t15\t15\t5\n",
    "Якщо булка спечена, але не продана, то збитки складуть 20 пенсів за штуку. Визначте, скільки булок потрібно випікати в день.\n",
    "\n"
   ],
   "metadata": {
    "collapsed": false
   },
   "id": "8233060a2b5a8347"
  },
  {
   "cell_type": "markdown",
   "source": [
    "### Вводимо початкові дані"
   ],
   "metadata": {
    "collapsed": false
   },
   "id": "716914c010810500"
  },
  {
   "cell_type": "code",
   "execution_count": 35,
   "outputs": [],
   "source": [
    "\n",
    "demand = [10, 12, 14, 16, 18] \n",
    "amountOfDays = [5, 10, 15, 15, 5] \n",
    "\n",
    "profit = 40 - 30 \n",
    "losses_non_sale = 20 "
   ],
   "metadata": {
    "collapsed": false,
    "ExecuteTime": {
     "end_time": "2023-11-30T17:05:32.260141Z",
     "start_time": "2023-11-30T17:05:32.211476100Z"
    }
   },
   "id": "a7fd1a8cb4c5754a"
  },
  {
   "cell_type": "code",
   "execution_count": 36,
   "outputs": [],
   "source": [
    "import numpy as np\n",
    "import pandas as pd\n"
   ],
   "metadata": {
    "collapsed": false,
    "ExecuteTime": {
     "end_time": "2023-11-30T17:05:32.276395200Z",
     "start_time": "2023-11-30T17:05:32.221140Z"
    }
   },
   "id": "49aeec780ed136eb"
  },
  {
   "cell_type": "markdown",
   "source": [
    "## Рахуємо ймовірність"
   ],
   "metadata": {
    "collapsed": false
   },
   "id": "13d6d27a9e310c0d"
  },
  {
   "cell_type": "code",
   "execution_count": 37,
   "outputs": [
    {
     "name": "stdout",
     "output_type": "stream",
     "text": [
      "Ймовірність попиту на період:  [0.1 0.2 0.3 0.3 0.1]\n"
     ]
    }
   ],
   "source": [
    "probability_demand = amountOfDays / np.sum(amountOfDays) \n",
    "\n",
    "print(\"Ймовірність попиту на період: \", probability_demand)"
   ],
   "metadata": {
    "collapsed": false,
    "ExecuteTime": {
     "end_time": "2023-11-30T17:05:32.295699100Z",
     "start_time": "2023-11-30T17:05:32.228871Z"
    }
   },
   "id": "4633afd4ebd62593"
  },
  {
   "cell_type": "markdown",
   "source": [
    "### Побудова дерева прийняття рішень"
   ],
   "metadata": {
    "collapsed": false
   },
   "id": "fd6c53be363d00c7"
  },
  {
   "cell_type": "code",
   "execution_count": 38,
   "outputs": [],
   "source": [
    "def calcDecisionTree(_tree_results, _tree_income_results):\n",
    "    for i in range(len(demand)):\n",
    "        temp = []\n",
    "        fullExpectedIncome = 0\n",
    "        fullExpectedExtIncome = 0\n",
    "        for j in range(len(demand)):\n",
    "            soldPerDay = min(demand[i], demand[j])\n",
    "            notSoldPerDay = max(0, demand[i] - demand[j])\n",
    "            expectedIncome = profit * soldPerDay\n",
    "            expectedIncomeExt = expectedIncome - losses_non_sale * notSoldPerDay\n",
    "            fullExpectedIncome += expectedIncome * probability_demand[j]\n",
    "            fullExpectedExtIncome += expectedIncomeExt * probability_demand[j]\n",
    "            temp.append([\n",
    "                probability_demand[j],\n",
    "                demand[i],\n",
    "                demand[j],\n",
    "                soldPerDay,\n",
    "                notSoldPerDay,\n",
    "                max(0, demand[j] - demand[i]),\n",
    "                expectedIncome,\n",
    "                expectedIncomeExt,\n",
    "            ])\n",
    "        _tree_results.append(temp)\n",
    "        _tree_income_results.append([fullExpectedIncome, fullExpectedExtIncome])"
   ],
   "metadata": {
    "collapsed": false,
    "ExecuteTime": {
     "end_time": "2023-11-30T17:05:32.332343600Z",
     "start_time": "2023-11-30T17:05:32.236450200Z"
    }
   },
   "id": "865507398054939d"
  },
  {
   "cell_type": "markdown",
   "source": [
    "## Обраховуємо дерево прийняття рішень"
   ],
   "metadata": {
    "collapsed": false
   },
   "id": "2ae664b72305f0a2"
  },
  {
   "cell_type": "code",
   "execution_count": 39,
   "outputs": [],
   "source": [
    "tree_results = []\n",
    "tree_income_results = []\n",
    "\n",
    "calcDecisionTree(tree_results, tree_income_results)"
   ],
   "metadata": {
    "collapsed": false,
    "ExecuteTime": {
     "end_time": "2023-11-30T17:05:32.333337500Z",
     "start_time": "2023-11-30T17:05:32.241344500Z"
    }
   },
   "id": "f73511eab9b83a72"
  },
  {
   "cell_type": "code",
   "execution_count": 40,
   "outputs": [
    {
     "name": "stdout",
     "output_type": "stream",
     "text": [
      "   Ймовірність попиту  Закупка  Запит  Продан  Не продано  \\\n",
      "0                 0.1       10     10      10           0   \n",
      "1                 0.2       10     12      10           0   \n",
      "2                 0.3       10     14      10           0   \n",
      "3                 0.3       10     16      10           0   \n",
      "4                 0.1       10     18      10           0   \n",
      "\n",
      "   Незадоволений попит  Очікуваний чистий дохід  дохід з урахуванням втрат  \n",
      "0                    0                      100                        100  \n",
      "1                    2                      100                        100  \n",
      "2                    4                      100                        100  \n",
      "3                    6                      100                        100  \n",
      "4                    8                      100                        100  \n",
      "   Ймовірність попиту  Закупка  Запит  Продан  Не продано  \\\n",
      "0                 0.1       12     10      10           2   \n",
      "1                 0.2       12     12      12           0   \n",
      "2                 0.3       12     14      12           0   \n",
      "3                 0.3       12     16      12           0   \n",
      "4                 0.1       12     18      12           0   \n",
      "\n",
      "   Незадоволений попит  Очікуваний чистий дохід  дохід з урахуванням втрат  \n",
      "0                    0                      100                         60  \n",
      "1                    0                      120                        120  \n",
      "2                    2                      120                        120  \n",
      "3                    4                      120                        120  \n",
      "4                    6                      120                        120  \n",
      "   Ймовірність попиту  Закупка  Запит  Продан  Не продано  \\\n",
      "0                 0.1       14     10      10           4   \n",
      "1                 0.2       14     12      12           2   \n",
      "2                 0.3       14     14      14           0   \n",
      "3                 0.3       14     16      14           0   \n",
      "4                 0.1       14     18      14           0   \n",
      "\n",
      "   Незадоволений попит  Очікуваний чистий дохід  дохід з урахуванням втрат  \n",
      "0                    0                      100                         20  \n",
      "1                    0                      120                         80  \n",
      "2                    0                      140                        140  \n",
      "3                    2                      140                        140  \n",
      "4                    4                      140                        140  \n",
      "   Ймовірність попиту  Закупка  Запит  Продан  Не продано  \\\n",
      "0                 0.1       16     10      10           6   \n",
      "1                 0.2       16     12      12           4   \n",
      "2                 0.3       16     14      14           2   \n",
      "3                 0.3       16     16      16           0   \n",
      "4                 0.1       16     18      16           0   \n",
      "\n",
      "   Незадоволений попит  Очікуваний чистий дохід  дохід з урахуванням втрат  \n",
      "0                    0                      100                        -20  \n",
      "1                    0                      120                         40  \n",
      "2                    0                      140                        100  \n",
      "3                    0                      160                        160  \n",
      "4                    2                      160                        160  \n",
      "   Ймовірність попиту  Закупка  Запит  Продан  Не продано  \\\n",
      "0                 0.1       18     10      10           8   \n",
      "1                 0.2       18     12      12           6   \n",
      "2                 0.3       18     14      14           4   \n",
      "3                 0.3       18     16      16           2   \n",
      "4                 0.1       18     18      18           0   \n",
      "\n",
      "   Незадоволений попит  Очікуваний чистий дохід  дохід з урахуванням втрат  \n",
      "0                    0                      100                        -60  \n",
      "1                    0                      120                          0  \n",
      "2                    0                      140                         60  \n",
      "3                    0                      160                        120  \n",
      "4                    0                      180                        180  \n"
     ]
    }
   ],
   "source": [
    "for i in range(len(tree_results)):\n",
    "\tprint(pd.DataFrame(\n",
    "        tree_results[i],\n",
    "        columns=[\n",
    "            \"Ймовірність попиту\",\n",
    "            \"Закупка\",\n",
    "            \"Запит\",\n",
    "            \"Продан\",\n",
    "            \"Не продано\",\n",
    "            \"Незадоволений попит\",\n",
    "            \"Очікуваний чистий дохід\",\n",
    "            \"дохід з урахуванням втрат\",\n",
    "\t\t]\n",
    "\t))"
   ],
   "metadata": {
    "collapsed": false,
    "ExecuteTime": {
     "end_time": "2023-11-30T17:05:32.351235100Z",
     "start_time": "2023-11-30T17:05:32.245984600Z"
    }
   },
   "id": "a86c7feea1dc38f0"
  },
  {
   "cell_type": "code",
   "execution_count": 41,
   "outputs": [
    {
     "name": "stdout",
     "output_type": "stream",
     "text": [
      "   чистий дохід  дохід з урахуванням витрат\n",
      "0         100.0                       100.0\n",
      "1         118.0                       114.0\n",
      "2         132.0                       116.0\n",
      "3         140.0                       100.0\n",
      "4         142.0                        66.0\n"
     ]
    }
   ],
   "source": [
    "print(pd.DataFrame(\n",
    "    tree_income_results,\n",
    "    columns=[\n",
    "            \"чистий дохід\",\n",
    "            \"дохід з урахуванням витрат\",\n",
    "\t\t]\n",
    "))"
   ],
   "metadata": {
    "collapsed": false,
    "ExecuteTime": {
     "end_time": "2023-11-30T17:05:32.351235100Z",
     "start_time": "2023-11-30T17:05:32.267683900Z"
    }
   },
   "id": "ed9a54dc8a09160f"
  },
  {
   "cell_type": "markdown",
   "source": [
    "### визначення оптимального рішення"
   ],
   "metadata": {
    "collapsed": false
   },
   "id": "1d39dcbbb4eee3a3"
  },
  {
   "cell_type": "code",
   "execution_count": 42,
   "outputs": [
    {
     "name": "stdout",
     "output_type": "stream",
     "text": [
      "Очікуваний чистий дохід максимальний: альтернатива 5. Дохід: 142.0 пенсів.\n",
      "Максимальний дохід з урахуванням втрат: альтернатива 3. Дохід: 116.0 пенсів.\n"
     ]
    }
   ],
   "source": [
    "maxExpectedIncome = np.max(tree_income_results, axis=0)[0]\n",
    "alternative = np.where(tree_income_results == maxExpectedIncome)[0][0]\n",
    "\n",
    "print(\n",
    "\t\"Очікуваний чистий дохід максимальний: \"\n",
    "\t\"альтернатива \" + str(alternative + 1) +\n",
    "\t\". Дохід: \" + str(maxExpectedIncome) +\" пенсів.\"\n",
    ")\n",
    "\n",
    "maxExpectedIncome = np.max(tree_income_results, axis=0)[1]\n",
    "alternative = np.where(tree_income_results == maxExpectedIncome)[0][0]\n",
    "\n",
    "print(\n",
    "\t\"Максимальний дохід з урахуванням втрат: \"\n",
    "\t\"альтернатива \" + str(alternative + 1) +\n",
    "\t\". Дохід: \" + str(maxExpectedIncome) +\" пенсів.\"\n",
    ")"
   ],
   "metadata": {
    "collapsed": false,
    "ExecuteTime": {
     "end_time": "2023-11-30T17:05:32.351908700Z",
     "start_time": "2023-11-30T17:05:32.277160Z"
    }
   },
   "id": "7d6d9267fa528e0e"
  },
  {
   "cell_type": "markdown",
   "source": [
    "### Аналіз чутливості прийняття рішень\n",
    "\n",
    "**Перевіримо чи залежить вибір від значень ймовірностей**"
   ],
   "metadata": {
    "collapsed": false
   },
   "id": "373cbc01c13a8614"
  },
  {
   "cell_type": "code",
   "execution_count": 43,
   "outputs": [
    {
     "name": "stdout",
     "output_type": "stream",
     "text": [
      "[[100.0, 100.0], [118.0, 114.0], [134.0, 122.0], [140.0, 100.0], [142.0, 66.0]]\n",
      "[[100.0, 100.0], [112.0, 96.0], [122.0, 86.0], [130.0, 70.0], [132.0, 36.0]]\n",
      "[[100.0, 100.0], [116.0, 108.0], [128.0, 104.0], [136.0, 88.0], [140.0, 60.0]]\n"
     ]
    }
   ],
   "source": [
    "probability_demand = [0.1, 0.1, 0.5, 0.2, 0.1]\n",
    "test1 = []\n",
    "calcDecisionTree([], test1)\n",
    "\n",
    "probability_demand = [0.4, 0.1, 0.1, 0.3, 0.1]\n",
    "test2 = []\n",
    "calcDecisionTree([], test2)\n",
    "\n",
    "probability_demand = [0.2, 0.2, 0.2, 0.2, 0.2]\n",
    "test3 = []\n",
    "calcDecisionTree([], test3)\n",
    "\n",
    "print(test1)\n",
    "print(test2)\n",
    "print(test3)"
   ],
   "metadata": {
    "collapsed": false,
    "ExecuteTime": {
     "end_time": "2023-11-30T17:05:32.351908700Z",
     "start_time": "2023-11-30T17:05:32.289899600Z"
    }
   },
   "id": "1adb1e949d6f41ba"
  },
  {
   "cell_type": "markdown",
   "source": [
    "**З результатів помітно, що при зміні ймовірностей, оптимальне рішення теж змінюється.**"
   ],
   "metadata": {
    "collapsed": false
   },
   "id": "263db06447ba2d8f"
  }
 ],
 "metadata": {
  "kernelspec": {
   "display_name": "Python 3",
   "language": "python",
   "name": "python3"
  },
  "language_info": {
   "codemirror_mode": {
    "name": "ipython",
    "version": 2
   },
   "file_extension": ".py",
   "mimetype": "text/x-python",
   "name": "python",
   "nbconvert_exporter": "python",
   "pygments_lexer": "ipython2",
   "version": "2.7.6"
  }
 },
 "nbformat": 4,
 "nbformat_minor": 5
}
