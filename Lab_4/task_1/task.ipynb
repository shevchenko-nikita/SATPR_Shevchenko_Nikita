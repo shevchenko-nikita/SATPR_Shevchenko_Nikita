{
 "cells": [
  {
   "cell_type": "code",
   "execution_count": 54,
   "id": "initial_id",
   "metadata": {
    "collapsed": true,
    "ExecuteTime": {
     "end_time": "2023-12-05T16:39:02.651811900Z",
     "start_time": "2023-12-05T16:39:02.565628500Z"
    }
   },
   "outputs": [],
   "source": [
    "import numpy as np"
   ]
  },
  {
   "cell_type": "code",
   "execution_count": 55,
   "outputs": [
    {
     "name": "stdout",
     "output_type": "stream",
     "text": [
      "[[180, 140, 16, 181, 232], [420, 280, 140, 220, 100], [153, 315, 35, 49, 340], [130, 16, 9, 1510, 201]] \n",
      "\n",
      "K =  16 \n",
      "\n",
      "l =  0.25 \n",
      "\n",
      "[0.1, 0.2, 0.25, 0.35, 0.09999999999999998]\n"
     ]
    }
   ],
   "source": [
    "k = 16\n",
    "\n",
    "payment_matrix = [\n",
    "\t[180, 140, k, 245 - 4 * k, 232],\n",
    "\t[420, 120 + 10 * k, 140, 220, 100],\n",
    "\t[25 + 8 * k, 315, 35, 49, 10 * (k + 23) - 50],\n",
    "\t[290 - 10 * k, k, 9, 100 * k - 90, 201]\n",
    "]\n",
    "\n",
    "l = 0\n",
    "if 1 <= k <= 12:\n",
    "    l = 1 / (k + 3)\n",
    "    \n",
    "else:\n",
    "    l = 4 / k\n",
    "\n",
    "p = [0.1, 0.2, l, l + 0.1, 0.6 - 2 * l]\n",
    "\n",
    "print(payment_matrix, '\\n')\n",
    "print('K = ', k, '\\n')\n",
    "print('l = ', l, '\\n')\n",
    "print(p)"
   ],
   "metadata": {
    "collapsed": false,
    "ExecuteTime": {
     "end_time": "2023-12-05T16:39:02.683891200Z",
     "start_time": "2023-12-05T16:39:02.577996700Z"
    }
   },
   "id": "ca81b5e545e86436"
  },
  {
   "cell_type": "code",
   "execution_count": 56,
   "outputs": [],
   "source": [
    "def printAnswer(res, target):\n",
    "\tanswer = 'No one'\n",
    "\t\n",
    "\tfor i in range(len(res)):\n",
    "\t\tprint(\"A\" + str(i + 1) + \":\", res[i])\n",
    "\t\tif(res[i] == target):\n",
    "\t\t\tanswer = (\"A\" + str(i + 1))\n",
    "\n",
    "\tprint('Alternative: ', answer)"
   ],
   "metadata": {
    "collapsed": false,
    "ExecuteTime": {
     "end_time": "2023-12-05T16:39:02.684693400Z",
     "start_time": "2023-12-05T16:39:02.583987Z"
    }
   },
   "id": "d4b105cdb17aa471"
  },
  {
   "cell_type": "markdown",
   "source": [
    "### Оптимальна стратегія за критерієм песимізму"
   ],
   "metadata": {
    "collapsed": false
   },
   "id": "22a3f7ffee5ec3c0"
  },
  {
   "cell_type": "code",
   "execution_count": 57,
   "outputs": [
    {
     "name": "stdout",
     "output_type": "stream",
     "text": [
      "A1: 16\n",
      "A2: 100\n",
      "A3: 35\n",
      "A4: 9\n",
      "Alternative:  A2\n"
     ]
    }
   ],
   "source": [
    "pessimistic_criteria = np.min(payment_matrix, axis = 1)\n",
    "\n",
    "printAnswer(pessimistic_criteria, np.max(pessimistic_criteria))"
   ],
   "metadata": {
    "collapsed": false,
    "ExecuteTime": {
     "end_time": "2023-12-05T16:39:02.685690700Z",
     "start_time": "2023-12-05T16:39:02.592548500Z"
    }
   },
   "id": "76ffd7a5e792a0cb"
  },
  {
   "cell_type": "markdown",
   "source": [
    "### Оптимальна стратегія за критерієм оптимізму"
   ],
   "metadata": {
    "collapsed": false
   },
   "id": "f58d757b0ec5fa20"
  },
  {
   "cell_type": "code",
   "execution_count": 58,
   "outputs": [
    {
     "name": "stdout",
     "output_type": "stream",
     "text": [
      "A1: 232\n",
      "A2: 420\n",
      "A3: 340\n",
      "A4: 1510\n",
      "Alternative:  A1\n"
     ]
    }
   ],
   "source": [
    "optimistic_criteria = np.max(payment_matrix, axis = 1)\n",
    "\n",
    "printAnswer(optimistic_criteria, np.min(optimistic_criteria))"
   ],
   "metadata": {
    "collapsed": false,
    "ExecuteTime": {
     "end_time": "2023-12-05T16:39:02.686702800Z",
     "start_time": "2023-12-05T16:39:02.597722500Z"
    }
   },
   "id": "c68b128072580891"
  },
  {
   "cell_type": "markdown",
   "source": [
    "### Оптимальна стратегія за критерієм Гурвіца"
   ],
   "metadata": {
    "collapsed": false
   },
   "id": "33fa6a9f8d959d36"
  },
  {
   "cell_type": "code",
   "execution_count": 59,
   "outputs": [
    {
     "name": "stdout",
     "output_type": "stream",
     "text": [
      "A1: 178.0\n",
      "A2: 340.0\n",
      "A3: 263.75\n",
      "A4: 1134.75\n",
      "Alternative:  A4\n"
     ]
    }
   ],
   "source": [
    "hurwitz_criteria = []\n",
    "\n",
    "for i in range(len(payment_matrix)):\n",
    "\tres = l * np.min(payment_matrix[i]) + (1 - l) * np.max(payment_matrix[i])\n",
    "\thurwitz_criteria.append(res)\n",
    "\n",
    "printAnswer(hurwitz_criteria, np.max(hurwitz_criteria))"
   ],
   "metadata": {
    "collapsed": false,
    "ExecuteTime": {
     "end_time": "2023-12-05T16:39:02.688682600Z",
     "start_time": "2023-12-05T16:39:02.603220700Z"
    }
   },
   "id": "d62367d965e7286"
  },
  {
   "cell_type": "markdown",
   "source": [
    "### Оптимальна стратегія за критерієм Лапласа"
   ],
   "metadata": {
    "collapsed": false
   },
   "id": "69659e11f108e7b7"
  },
  {
   "cell_type": "code",
   "execution_count": 60,
   "outputs": [
    {
     "name": "stdout",
     "output_type": "stream",
     "text": [
      "A1: 149.8\n",
      "A2: 232.0\n",
      "A3: 178.4\n",
      "A4: 373.2\n",
      "Alternative:  A4\n"
     ]
    }
   ],
   "source": [
    "laplace_criteria = []\n",
    "\n",
    "for i in range(len(payment_matrix)):\n",
    "\tres = np.average(payment_matrix[i])\n",
    "\tlaplace_criteria.append(res)\n",
    "\n",
    "printAnswer(laplace_criteria, np.max(laplace_criteria))"
   ],
   "metadata": {
    "collapsed": false,
    "ExecuteTime": {
     "end_time": "2023-12-05T16:39:02.700686400Z",
     "start_time": "2023-12-05T16:39:02.611512400Z"
    }
   },
   "id": "becae8d8d4a9de02"
  },
  {
   "cell_type": "markdown",
   "source": [
    "### Оптимальна стратегія за критерієм Байєса-Лапласа"
   ],
   "metadata": {
    "collapsed": false
   },
   "id": "4faa0e63efdb5361"
  },
  {
   "cell_type": "code",
   "execution_count": 61,
   "outputs": [
    {
     "name": "stdout",
     "output_type": "stream",
     "text": [
      "A1: 136.54999999999998\n",
      "A2: 220.0\n",
      "A3: 138.2\n",
      "A4: 567.0500000000001\n",
      "Alternative:  A4\n"
     ]
    }
   ],
   "source": [
    "bayes_laplace_criteria = []\n",
    "\n",
    "for i in range(len(payment_matrix)):\n",
    "\tres = 0\n",
    "\tfor j in range(len(payment_matrix[i])):\n",
    "\t\tres += payment_matrix[i][j] * p[j]\n",
    "\n",
    "\tbayes_laplace_criteria.append(res)\n",
    "\n",
    "printAnswer(bayes_laplace_criteria, np.max(bayes_laplace_criteria))"
   ],
   "metadata": {
    "collapsed": false,
    "ExecuteTime": {
     "end_time": "2023-12-05T16:39:02.702462200Z",
     "start_time": "2023-12-05T16:39:02.622188Z"
    }
   },
   "id": "243a52a0928b3964"
  },
  {
   "cell_type": "markdown",
   "source": [
    "### Оптимальна стратегія за критерієм Ходжа-Лемана"
   ],
   "metadata": {
    "collapsed": false
   },
   "id": "4937568357d131f0"
  },
  {
   "cell_type": "code",
   "execution_count": 62,
   "outputs": [
    {
     "name": "stdout",
     "output_type": "stream",
     "text": [
      "A1: 46.137499999999996\n",
      "A2: 130.0\n",
      "A3: 60.8\n",
      "A4: 148.51250000000002\n",
      "Alternative:  A4\n"
     ]
    }
   ],
   "source": [
    "hodges_lehmann = []\n",
    "\n",
    "for i in range(len(payment_matrix)):\n",
    "\tres = (1 - l) * np.min(payment_matrix[i]) + l * np.sum([payment_matrix[i][j] * p[j] for j in range(len(payment_matrix[i]))])\n",
    "\thodges_lehmann.append(res)\n",
    "\n",
    "printAnswer(hodges_lehmann, np.max(hodges_lehmann))\n"
   ],
   "metadata": {
    "collapsed": false,
    "ExecuteTime": {
     "end_time": "2023-12-05T16:39:02.708631300Z",
     "start_time": "2023-12-05T16:39:02.634558800Z"
    }
   },
   "id": "6ebf27b73f688690"
  },
  {
   "cell_type": "code",
   "execution_count": 62,
   "outputs": [],
   "source": [],
   "metadata": {
    "collapsed": false,
    "ExecuteTime": {
     "end_time": "2023-12-05T16:39:02.708631300Z",
     "start_time": "2023-12-05T16:39:02.639816300Z"
    }
   },
   "id": "9ebda3329a822bb3"
  }
 ],
 "metadata": {
  "kernelspec": {
   "display_name": "Python 3",
   "language": "python",
   "name": "python3"
  },
  "language_info": {
   "codemirror_mode": {
    "name": "ipython",
    "version": 2
   },
   "file_extension": ".py",
   "mimetype": "text/x-python",
   "name": "python",
   "nbconvert_exporter": "python",
   "pygments_lexer": "ipython2",
   "version": "2.7.6"
  }
 },
 "nbformat": 4,
 "nbformat_minor": 5
}
