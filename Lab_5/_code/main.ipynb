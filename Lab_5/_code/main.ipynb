{
 "cells": [
  {
   "cell_type": "markdown",
   "source": [
    "### Перше завдання\n",
    "\n",
    "|        | В1 | В2 | В3 | В4 |\n",
    "|--------|----|----|----|----|\n",
    "| **А1** | 1  | 9  | 6  | 0  |\n",
    "| **А2** | -2 | 3  | 8  | 4  |\n",
    "| **А3** | -5 | -2 | 10 | -3 |\n",
    "| **А4** | 7  | 4  | -2 | -5 |"
   ],
   "metadata": {
    "collapsed": false
   },
   "id": "41bf703cf4778731"
  },
  {
   "cell_type": "code",
   "execution_count": 10,
   "outputs": [],
   "source": [
    "import numpy as np\n",
    "import pandas as pd\n",
    "from IPython.display import display, Math"
   ],
   "metadata": {
    "collapsed": false,
    "ExecuteTime": {
     "end_time": "2023-12-11T22:40:47.027044700Z",
     "start_time": "2023-12-11T22:40:46.973415200Z"
    }
   },
   "id": "c162f6a8b8bbec1"
  },
  {
   "cell_type": "code",
   "execution_count": 11,
   "outputs": [
    {
     "data": {
      "text/plain": "    B1  B2  B3  B4\nA1   1   9   6   0\nA2  -2   3   8   4\nA3  -5  -2  10  -3\nA4   7   4  -2  -5",
      "text/html": "<div>\n<style scoped>\n    .dataframe tbody tr th:only-of-type {\n        vertical-align: middle;\n    }\n\n    .dataframe tbody tr th {\n        vertical-align: top;\n    }\n\n    .dataframe thead th {\n        text-align: right;\n    }\n</style>\n<table border=\"1\" class=\"dataframe\">\n  <thead>\n    <tr style=\"text-align: right;\">\n      <th></th>\n      <th>B1</th>\n      <th>B2</th>\n      <th>B3</th>\n      <th>B4</th>\n    </tr>\n  </thead>\n  <tbody>\n    <tr>\n      <th>A1</th>\n      <td>1</td>\n      <td>9</td>\n      <td>6</td>\n      <td>0</td>\n    </tr>\n    <tr>\n      <th>A2</th>\n      <td>-2</td>\n      <td>3</td>\n      <td>8</td>\n      <td>4</td>\n    </tr>\n    <tr>\n      <th>A3</th>\n      <td>-5</td>\n      <td>-2</td>\n      <td>10</td>\n      <td>-3</td>\n    </tr>\n    <tr>\n      <th>A4</th>\n      <td>7</td>\n      <td>4</td>\n      <td>-2</td>\n      <td>-5</td>\n    </tr>\n  </tbody>\n</table>\n</div>"
     },
     "metadata": {},
     "output_type": "display_data"
    }
   ],
   "source": [
    "matrix = [\n",
    "\t[1, 9, 6, 0],\n",
    "\t[-2, 3, 8, 4],\n",
    "\t[-5, -2, 10, -3],\n",
    "\t[7, 4, -2, -5]\n",
    "]\n",
    "\n",
    "display(pd.DataFrame(matrix, columns=['B1', 'B2', 'B3', 'B4'], index=['A1', 'A2', 'A3', 'A4']))"
   ],
   "metadata": {
    "collapsed": false,
    "ExecuteTime": {
     "end_time": "2023-12-11T22:40:47.060211700Z",
     "start_time": "2023-12-11T22:40:46.990567800Z"
    }
   },
   "id": "a1f09abbf37635ec"
  },
  {
   "cell_type": "markdown",
   "source": [
    "### Шукаємо нижню ціну гри"
   ],
   "metadata": {
    "collapsed": false
   },
   "id": "ec153f4d96d81cb4"
  },
  {
   "cell_type": "code",
   "execution_count": 12,
   "outputs": [
    {
     "data": {
      "text/plain": "    min A\nA1      0\nA2     -2\nA3     -5\nA4     -5",
      "text/html": "<div>\n<style scoped>\n    .dataframe tbody tr th:only-of-type {\n        vertical-align: middle;\n    }\n\n    .dataframe tbody tr th {\n        vertical-align: top;\n    }\n\n    .dataframe thead th {\n        text-align: right;\n    }\n</style>\n<table border=\"1\" class=\"dataframe\">\n  <thead>\n    <tr style=\"text-align: right;\">\n      <th></th>\n      <th>min A</th>\n    </tr>\n  </thead>\n  <tbody>\n    <tr>\n      <th>A1</th>\n      <td>0</td>\n    </tr>\n    <tr>\n      <th>A2</th>\n      <td>-2</td>\n    </tr>\n    <tr>\n      <th>A3</th>\n      <td>-5</td>\n    </tr>\n    <tr>\n      <th>A4</th>\n      <td>-5</td>\n    </tr>\n  </tbody>\n</table>\n</div>"
     },
     "metadata": {},
     "output_type": "display_data"
    },
    {
     "name": "stdout",
     "output_type": "stream",
     "text": [
      "max min A = 0\n"
     ]
    }
   ],
   "source": [
    "minA = np.min(matrix, axis = 1)\n",
    "maxMinA = np.max(minA)\n",
    "\n",
    "display(pd.DataFrame(minA, columns=['min A'], index=['A1', 'A2', 'A3', 'A4']))\n",
    "print('max min A =', maxMinA)"
   ],
   "metadata": {
    "collapsed": false,
    "ExecuteTime": {
     "end_time": "2023-12-11T22:40:47.061201Z",
     "start_time": "2023-12-11T22:40:46.999381200Z"
    }
   },
   "id": "7a9e32234e97b76c"
  },
  {
   "cell_type": "markdown",
   "source": [
    "### Шукаємо верхню ціну гри"
   ],
   "metadata": {
    "collapsed": false
   },
   "id": "dfcab041eb32710e"
  },
  {
   "cell_type": "code",
   "execution_count": 13,
   "outputs": [
    {
     "data": {
      "text/plain": "    max B\nB1      7\nB2      9\nB3     10\nB4      4",
      "text/html": "<div>\n<style scoped>\n    .dataframe tbody tr th:only-of-type {\n        vertical-align: middle;\n    }\n\n    .dataframe tbody tr th {\n        vertical-align: top;\n    }\n\n    .dataframe thead th {\n        text-align: right;\n    }\n</style>\n<table border=\"1\" class=\"dataframe\">\n  <thead>\n    <tr style=\"text-align: right;\">\n      <th></th>\n      <th>max B</th>\n    </tr>\n  </thead>\n  <tbody>\n    <tr>\n      <th>B1</th>\n      <td>7</td>\n    </tr>\n    <tr>\n      <th>B2</th>\n      <td>9</td>\n    </tr>\n    <tr>\n      <th>B3</th>\n      <td>10</td>\n    </tr>\n    <tr>\n      <th>B4</th>\n      <td>4</td>\n    </tr>\n  </tbody>\n</table>\n</div>"
     },
     "metadata": {},
     "output_type": "display_data"
    },
    {
     "name": "stdout",
     "output_type": "stream",
     "text": [
      "min max B = 4\n"
     ]
    }
   ],
   "source": [
    "maxB = np.max(matrix, axis = 0)\n",
    "minMaxB = np.min(maxB)\n",
    "\n",
    "display(pd.DataFrame(maxB, columns=['max B'], index=['B1', 'B2', 'B3', 'B4']))\n",
    "print('min max B =', minMaxB)"
   ],
   "metadata": {
    "collapsed": false,
    "ExecuteTime": {
     "end_time": "2023-12-11T22:40:47.064258500Z",
     "start_time": "2023-12-11T22:40:47.011413600Z"
    }
   },
   "id": "c5dba7f0ffa5fe9f"
  },
  {
   "cell_type": "markdown",
   "source": [
    "**Робимо висновок, що рівноваги в чистих стратегіях немає.**"
   ],
   "metadata": {
    "collapsed": false
   },
   "id": "1b672c220202236c"
  },
  {
   "cell_type": "markdown",
   "source": [
    "# Друге завдання\n"
   ],
   "metadata": {
    "collapsed": false
   },
   "id": "61ea1bc889eab54"
  },
  {
   "cell_type": "code",
   "execution_count": 18,
   "outputs": [
    {
     "name": "stdout",
     "output_type": "stream",
     "text": [
      "[[0, 3], [1, 2], [2, 1], [3, 0]] 4\n"
     ]
    }
   ],
   "source": [
    "A = []\n",
    "for i in range(0, 4):\n",
    "\tA.append([i, 3 - i])\n",
    "\n",
    "AIndex = [f\"A{i + 1} ({A[i][0]} в 1 та {A[i][1]} в 2)\" for i in range(len(A))]\n",
    "\n",
    "print(A, len(A))"
   ],
   "metadata": {
    "collapsed": false,
    "ExecuteTime": {
     "end_time": "2023-12-11T23:22:48.058791600Z",
     "start_time": "2023-12-11T23:22:48.039067100Z"
    }
   },
   "id": "4f5df2490baccb65"
  },
  {
   "cell_type": "code",
   "execution_count": 19,
   "outputs": [
    {
     "data": {
      "text/plain": "                       B1    B2\nA1 (0 в 1 та 3 в 2)  0.40  0.84\nA2 (1 в 1 та 2 в 2)  0.80  1.32\nA3 (2 в 1 та 1 в 2)  1.20  1.80\nA4 (3 в 1 та 0 в 2)  0.88  1.08",
      "text/html": "<div>\n<style scoped>\n    .dataframe tbody tr th:only-of-type {\n        vertical-align: middle;\n    }\n\n    .dataframe tbody tr th {\n        vertical-align: top;\n    }\n\n    .dataframe thead th {\n        text-align: right;\n    }\n</style>\n<table border=\"1\" class=\"dataframe\">\n  <thead>\n    <tr style=\"text-align: right;\">\n      <th></th>\n      <th>B1</th>\n      <th>B2</th>\n    </tr>\n  </thead>\n  <tbody>\n    <tr>\n      <th>A1 (0 в 1 та 3 в 2)</th>\n      <td>0.40</td>\n      <td>0.84</td>\n    </tr>\n    <tr>\n      <th>A2 (1 в 1 та 2 в 2)</th>\n      <td>0.80</td>\n      <td>1.32</td>\n    </tr>\n    <tr>\n      <th>A3 (2 в 1 та 1 в 2)</th>\n      <td>1.20</td>\n      <td>1.80</td>\n    </tr>\n    <tr>\n      <th>A4 (3 в 1 та 0 в 2)</th>\n      <td>0.88</td>\n      <td>1.08</td>\n    </tr>\n  </tbody>\n</table>\n</div>"
     },
     "metadata": {},
     "output_type": "display_data"
    }
   ],
   "source": [
    "p1 = 0.4\n",
    "p2 = 0.6\n",
    "matrix2 = []\n",
    "\n",
    "for i in range(len(A)):\n",
    "    shipsIn1 = A[i][0]\n",
    "    shipsIn2 = A[i][1]\n",
    "    for j in range(i + 1, len(A) - i):\n",
    "        matrix2.append(\n",
    "            [\n",
    "                1 - (1 - p1 * A[i][0]) * (1 - p1 * A[j][0]),\n",
    "                1 - (1 - p2 * A[i][1]) * (1 - p2 * A[j][1]),\n",
    "            ]\n",
    "        )\n",
    "\n",
    "display(\n",
    "    pd.DataFrame(\n",
    "        matrix2,\n",
    "        columns = [\"B1\", \"B2\"],\n",
    "        index = AIndex,\n",
    "    )\n",
    ")"
   ],
   "metadata": {
    "collapsed": false,
    "ExecuteTime": {
     "end_time": "2023-12-11T23:22:48.640290Z",
     "start_time": "2023-12-11T23:22:48.615863800Z"
    }
   },
   "id": "4abd09e278335afd"
  },
  {
   "cell_type": "markdown",
   "source": [
    "### Шукаємо нижню ціну гри"
   ],
   "metadata": {
    "collapsed": false
   },
   "id": "59109395d92c887a"
  },
  {
   "cell_type": "code",
   "execution_count": 20,
   "outputs": [
    {
     "data": {
      "text/plain": "                     min A\nA1 (0 в 1 та 3 в 2)   0.40\nA2 (1 в 1 та 2 в 2)   0.80\nA3 (2 в 1 та 1 в 2)   1.20\nA4 (3 в 1 та 0 в 2)   0.88",
      "text/html": "<div>\n<style scoped>\n    .dataframe tbody tr th:only-of-type {\n        vertical-align: middle;\n    }\n\n    .dataframe tbody tr th {\n        vertical-align: top;\n    }\n\n    .dataframe thead th {\n        text-align: right;\n    }\n</style>\n<table border=\"1\" class=\"dataframe\">\n  <thead>\n    <tr style=\"text-align: right;\">\n      <th></th>\n      <th>min A</th>\n    </tr>\n  </thead>\n  <tbody>\n    <tr>\n      <th>A1 (0 в 1 та 3 в 2)</th>\n      <td>0.40</td>\n    </tr>\n    <tr>\n      <th>A2 (1 в 1 та 2 в 2)</th>\n      <td>0.80</td>\n    </tr>\n    <tr>\n      <th>A3 (2 в 1 та 1 в 2)</th>\n      <td>1.20</td>\n    </tr>\n    <tr>\n      <th>A4 (3 в 1 та 0 в 2)</th>\n      <td>0.88</td>\n    </tr>\n  </tbody>\n</table>\n</div>"
     },
     "metadata": {},
     "output_type": "display_data"
    },
    {
     "name": "stdout",
     "output_type": "stream",
     "text": [
      "max min A = 1.2000000000000002\n"
     ]
    }
   ],
   "source": [
    "minA2 = np.min(matrix2, axis = 1)\n",
    "maxMinA2 = np.max(minA2)\n",
    "\n",
    "display(pd.DataFrame(minA2, columns=[\"min A\"], index = AIndex))\n",
    "print('max min A =', maxMinA2)"
   ],
   "metadata": {
    "collapsed": false,
    "ExecuteTime": {
     "end_time": "2023-12-11T23:22:49.362682800Z",
     "start_time": "2023-12-11T23:22:49.347160700Z"
    }
   },
   "id": "e80d7b70ee42e26f"
  },
  {
   "cell_type": "markdown",
   "source": [
    "### Шукаємо верхню ціну гри"
   ],
   "metadata": {
    "collapsed": false
   },
   "id": "913d746840448e0d"
  },
  {
   "cell_type": "code",
   "execution_count": 21,
   "outputs": [
    {
     "data": {
      "text/plain": "    max B\nB1    1.2\nB2    1.8",
      "text/html": "<div>\n<style scoped>\n    .dataframe tbody tr th:only-of-type {\n        vertical-align: middle;\n    }\n\n    .dataframe tbody tr th {\n        vertical-align: top;\n    }\n\n    .dataframe thead th {\n        text-align: right;\n    }\n</style>\n<table border=\"1\" class=\"dataframe\">\n  <thead>\n    <tr style=\"text-align: right;\">\n      <th></th>\n      <th>max B</th>\n    </tr>\n  </thead>\n  <tbody>\n    <tr>\n      <th>B1</th>\n      <td>1.2</td>\n    </tr>\n    <tr>\n      <th>B2</th>\n      <td>1.8</td>\n    </tr>\n  </tbody>\n</table>\n</div>"
     },
     "metadata": {},
     "output_type": "display_data"
    },
    {
     "name": "stdout",
     "output_type": "stream",
     "text": [
      "min max B = 1.2000000000000002\n"
     ]
    }
   ],
   "source": [
    "maxB2 = np.max(matrix2, axis=0)\n",
    "minMaxB2 = np.min(maxB2)\n",
    "\n",
    "display(pd.DataFrame(maxB2, columns=['max B'], index=['B1', 'B2']))\n",
    "print('min max B =', minMaxB2)"
   ],
   "metadata": {
    "collapsed": false,
    "ExecuteTime": {
     "end_time": "2023-12-11T23:22:49.962931200Z",
     "start_time": "2023-12-11T23:22:49.922146900Z"
    }
   },
   "id": "a8a31a3c96a60e99"
  },
  {
   "cell_type": "code",
   "execution_count": null,
   "outputs": [],
   "source": [],
   "metadata": {
    "collapsed": false
   },
   "id": "e75d415bfb4aa593"
  }
 ],
 "metadata": {
  "kernelspec": {
   "display_name": "Python 3",
   "language": "python",
   "name": "python3"
  },
  "language_info": {
   "codemirror_mode": {
    "name": "ipython",
    "version": 2
   },
   "file_extension": ".py",
   "mimetype": "text/x-python",
   "name": "python",
   "nbconvert_exporter": "python",
   "pygments_lexer": "ipython2",
   "version": "2.7.6"
  }
 },
 "nbformat": 4,
 "nbformat_minor": 5
}
