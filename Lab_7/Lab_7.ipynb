{
 "cells": [
  {
   "cell_type": "code",
   "execution_count": 53,
   "outputs": [
    {
     "name": "stdout",
     "output_type": "stream",
     "text": [
      "[5, 5, 4, 6]\n",
      "['A', 'B', 'C', 'D']\n",
      "[['A', 'C', 'B', 'C'], ['B', 'A', 'C', 'B'], ['C', 'B', 'D', 'D'], ['D', 'D', 'A', 'A']]\n"
     ]
    }
   ],
   "source": [
    "import pandas as pd\n",
    "import numpy as np\n",
    "from IPython.display import display\n",
    "\n",
    "votes = [5, 5, 4, 6]\n",
    "candidates = [\"A\", \"B\", \"C\", \"D\"]\n",
    "\n",
    "matrix = [\n",
    "    [\"A\", \"C\", \"B\", \"C\"],\n",
    "    [\"B\", \"A\", \"C\", \"B\"],\n",
    "    [\"C\", \"B\", \"D\", \"D\"],\n",
    "    [\"D\", \"D\", \"A\", \"A\"],\n",
    "]\n",
    "\n",
    "print(votes)\n",
    "print(candidates)\n",
    "print(matrix)"
   ],
   "metadata": {
    "collapsed": false,
    "ExecuteTime": {
     "end_time": "2023-12-13T21:46:01.273509900Z",
     "start_time": "2023-12-13T21:46:01.213060100Z"
    }
   },
   "id": "initial_id"
  },
  {
   "cell_type": "markdown",
   "source": [
    "## Правило абсолютної більшості"
   ],
   "metadata": {
    "collapsed": false
   },
   "id": "e1adc95f43855a16"
  },
  {
   "cell_type": "code",
   "execution_count": 54,
   "outputs": [
    {
     "data": {
      "text/plain": "         A  B   C  D\nFirst:   5  4  11  0",
      "text/html": "<div>\n<style scoped>\n    .dataframe tbody tr th:only-of-type {\n        vertical-align: middle;\n    }\n\n    .dataframe tbody tr th {\n        vertical-align: top;\n    }\n\n    .dataframe thead th {\n        text-align: right;\n    }\n</style>\n<table border=\"1\" class=\"dataframe\">\n  <thead>\n    <tr style=\"text-align: right;\">\n      <th></th>\n      <th>A</th>\n      <th>B</th>\n      <th>C</th>\n      <th>D</th>\n    </tr>\n  </thead>\n  <tbody>\n    <tr>\n      <th>First:</th>\n      <td>5</td>\n      <td>4</td>\n      <td>11</td>\n      <td>0</td>\n    </tr>\n  </tbody>\n</table>\n</div>"
     },
     "metadata": {},
     "output_type": "display_data"
    },
    {
     "name": "stdout",
     "output_type": "stream",
     "text": [
      "Winner:  C\n"
     ]
    }
   ],
   "source": [
    "def getRelativeResults(m, votes, candidates):\n",
    "    relativeResults = {candidate: 0 for candidate in candidates}\n",
    "    for i in range(len(m[0])):\n",
    "        key = m[0][i]\n",
    "        if key in relativeResults:\n",
    "            relativeResults[key] += votes[i]\n",
    "\n",
    "    return relativeResults\n",
    "\n",
    "\n",
    "def getAbsoluteWinner(m, votes, candidates, printResults=True):\n",
    "    relativeResults = getRelativeResults(m, votes, candidates)\n",
    "    if printResults:\n",
    "        display(pd.DataFrame(relativeResults, index=[\"First: \"]))\n",
    "\n",
    "    return max(relativeResults, key = relativeResults.get)\n",
    "\n",
    "\n",
    "absoluteWinner = getAbsoluteWinner(matrix, votes, candidates)\n",
    "\n",
    "print(\"Winner: \", absoluteWinner)"
   ],
   "metadata": {
    "collapsed": false,
    "ExecuteTime": {
     "end_time": "2023-12-13T21:46:01.367489Z",
     "start_time": "2023-12-13T21:46:01.224456600Z"
    }
   },
   "id": "772b763bfbbe7b29"
  },
  {
   "cell_type": "markdown",
   "source": [
    "## Правило відносної більшості"
   ],
   "metadata": {
    "collapsed": false
   },
   "id": "b99d6df918a48597"
  },
  {
   "cell_type": "code",
   "execution_count": 55,
   "outputs": [
    {
     "data": {
      "text/plain": "         A  B   C  D\nFirst:   5  4  11  0",
      "text/html": "<div>\n<style scoped>\n    .dataframe tbody tr th:only-of-type {\n        vertical-align: middle;\n    }\n\n    .dataframe tbody tr th {\n        vertical-align: top;\n    }\n\n    .dataframe thead th {\n        text-align: right;\n    }\n</style>\n<table border=\"1\" class=\"dataframe\">\n  <thead>\n    <tr style=\"text-align: right;\">\n      <th></th>\n      <th>A</th>\n      <th>B</th>\n      <th>C</th>\n      <th>D</th>\n    </tr>\n  </thead>\n  <tbody>\n    <tr>\n      <th>First:</th>\n      <td>5</td>\n      <td>4</td>\n      <td>11</td>\n      <td>0</td>\n    </tr>\n  </tbody>\n</table>\n</div>"
     },
     "metadata": {},
     "output_type": "display_data"
    },
    {
     "name": "stdout",
     "output_type": "stream",
     "text": [
      "Winner:  C\n"
     ]
    }
   ],
   "source": [
    "def getRelative(m, votes, candidates, printResults=True):\n",
    "    relativeResults = getRelativeResults(m, votes, candidates)\n",
    "    if printResults:\n",
    "        display(pd.DataFrame(relativeResults, index=[\"First: \"]))\n",
    "\n",
    "    return max(relativeResults, key=relativeResults.get)\n",
    "\n",
    "\n",
    "relative_winner = getRelative(matrix, votes, candidates)\n",
    "\n",
    "print(\"Winner: \", relative_winner)"
   ],
   "metadata": {
    "collapsed": false,
    "ExecuteTime": {
     "end_time": "2023-12-13T21:46:01.367489Z",
     "start_time": "2023-12-13T21:46:01.238422800Z"
    }
   },
   "id": "48e68180ad522f09"
  },
  {
   "cell_type": "markdown",
   "source": [
    "## Правило Борда"
   ],
   "metadata": {
    "collapsed": false
   },
   "id": "d934589ccab15b80"
  },
  {
   "cell_type": "code",
   "execution_count": 56,
   "outputs": [
    {
     "data": {
      "text/plain": "   5  5  4  6\n3  A  C  B  C\n2  B  A  C  B\n1  C  B  D  D\n0  D  D  A  A",
      "text/html": "<div>\n<style scoped>\n    .dataframe tbody tr th:only-of-type {\n        vertical-align: middle;\n    }\n\n    .dataframe tbody tr th {\n        vertical-align: top;\n    }\n\n    .dataframe thead th {\n        text-align: right;\n    }\n</style>\n<table border=\"1\" class=\"dataframe\">\n  <thead>\n    <tr style=\"text-align: right;\">\n      <th></th>\n      <th>5</th>\n      <th>5</th>\n      <th>4</th>\n      <th>6</th>\n    </tr>\n  </thead>\n  <tbody>\n    <tr>\n      <th>3</th>\n      <td>A</td>\n      <td>C</td>\n      <td>B</td>\n      <td>C</td>\n    </tr>\n    <tr>\n      <th>2</th>\n      <td>B</td>\n      <td>A</td>\n      <td>C</td>\n      <td>B</td>\n    </tr>\n    <tr>\n      <th>1</th>\n      <td>C</td>\n      <td>B</td>\n      <td>D</td>\n      <td>D</td>\n    </tr>\n    <tr>\n      <th>0</th>\n      <td>D</td>\n      <td>D</td>\n      <td>A</td>\n      <td>A</td>\n    </tr>\n  </tbody>\n</table>\n</div>"
     },
     "metadata": {},
     "output_type": "display_data"
    },
    {
     "data": {
      "text/plain": "          A   B   C   D\nResults  25  39  46  10",
      "text/html": "<div>\n<style scoped>\n    .dataframe tbody tr th:only-of-type {\n        vertical-align: middle;\n    }\n\n    .dataframe tbody tr th {\n        vertical-align: top;\n    }\n\n    .dataframe thead th {\n        text-align: right;\n    }\n</style>\n<table border=\"1\" class=\"dataframe\">\n  <thead>\n    <tr style=\"text-align: right;\">\n      <th></th>\n      <th>A</th>\n      <th>B</th>\n      <th>C</th>\n      <th>D</th>\n    </tr>\n  </thead>\n  <tbody>\n    <tr>\n      <th>Results</th>\n      <td>25</td>\n      <td>39</td>\n      <td>46</td>\n      <td>10</td>\n    </tr>\n  </tbody>\n</table>\n</div>"
     },
     "metadata": {},
     "output_type": "display_data"
    },
    {
     "name": "stdout",
     "output_type": "stream",
     "text": [
      "Winner:  C\n"
     ]
    }
   ],
   "source": [
    "def getBorda(m, votes, candidates, printResults=True):\n",
    "    S = [len(m) - i - 1 for i in range(len(m))]\n",
    "\n",
    "    if printResults:\n",
    "        display(pd.DataFrame(m, index=S, columns=votes))\n",
    "\n",
    "    results = {candidate: 0 for candidate in candidates}\n",
    "\n",
    "    for score, i in enumerate(S):\n",
    "        for j in range(len(m[i])):\n",
    "            if m[i][j] in candidates:\n",
    "                results[m[i][j]] += votes[j] * score\n",
    "\n",
    "    if printResults:\n",
    "        display(pd.DataFrame(results, index=[\"Results\"]))\n",
    "\n",
    "    return max(results, key=results.get)\n",
    "\n",
    "\n",
    "borda_winner = getBorda(matrix, votes, candidates)\n",
    "\n",
    "print(\"Winner: \", borda_winner)"
   ],
   "metadata": {
    "collapsed": false,
    "ExecuteTime": {
     "end_time": "2023-12-13T21:46:01.369483500Z",
     "start_time": "2023-12-13T21:46:01.249017Z"
    }
   },
   "id": "dab8cdbdee4aa720"
  },
  {
   "cell_type": "markdown",
   "source": [
    "## Правило Кондорсе"
   ],
   "metadata": {
    "collapsed": false
   },
   "id": "b3b2893e44ad60e3"
  },
  {
   "cell_type": "code",
   "execution_count": 57,
   "outputs": [
    {
     "data": {
      "text/plain": "       A      B      C     D\nA   True   True  False  True\nB  False   True  False  True\nC   True   True   True  True\nD  False  False  False  True",
      "text/html": "<div>\n<style scoped>\n    .dataframe tbody tr th:only-of-type {\n        vertical-align: middle;\n    }\n\n    .dataframe tbody tr th {\n        vertical-align: top;\n    }\n\n    .dataframe thead th {\n        text-align: right;\n    }\n</style>\n<table border=\"1\" class=\"dataframe\">\n  <thead>\n    <tr style=\"text-align: right;\">\n      <th></th>\n      <th>A</th>\n      <th>B</th>\n      <th>C</th>\n      <th>D</th>\n    </tr>\n  </thead>\n  <tbody>\n    <tr>\n      <th>A</th>\n      <td>True</td>\n      <td>True</td>\n      <td>False</td>\n      <td>True</td>\n    </tr>\n    <tr>\n      <th>B</th>\n      <td>False</td>\n      <td>True</td>\n      <td>False</td>\n      <td>True</td>\n    </tr>\n    <tr>\n      <th>C</th>\n      <td>True</td>\n      <td>True</td>\n      <td>True</td>\n      <td>True</td>\n    </tr>\n    <tr>\n      <th>D</th>\n      <td>False</td>\n      <td>False</td>\n      <td>False</td>\n      <td>True</td>\n    </tr>\n  </tbody>\n</table>\n</div>"
     },
     "metadata": {},
     "output_type": "display_data"
    },
    {
     "name": "stdout",
     "output_type": "stream",
     "text": [
      "Winner:  C\n"
     ]
    }
   ],
   "source": [
    "def getCondorcet(m, votes, candidates):\n",
    "    num_candidates = len(candidates)\n",
    "\n",
    "    pairwise_matrix = [[0] * num_candidates for _ in range(num_candidates)]\n",
    "\n",
    "    for i in range(num_candidates): \n",
    "        for j in range(num_candidates):\n",
    "            res = getRelativeResults(m, votes, candidates)\n",
    "            k_i = res[candidates[i]]\n",
    "            k_j = res[candidates[j]]\n",
    "            if k_i >= k_j:  \n",
    "                pairwise_matrix[i][j] = True\n",
    "            elif k_i < k_j:\n",
    "                pairwise_matrix[i][j] = False\n",
    "\n",
    "    winner = None\n",
    "    for i in range(num_candidates): \n",
    "        for j in range(num_candidates): \n",
    "            if np.all(pairwise_matrix[i], 0) and i != j:\n",
    "                winner = candidates[i]\n",
    "\n",
    "    return winner, pairwise_matrix\n",
    "\n",
    "winner, pairwise_matrix = getCondorcet(matrix, votes, candidates)\n",
    "display(pd.DataFrame(pairwise_matrix, index = candidates, columns = candidates))\n",
    "\n",
    "print(\"Winner: \", winner)"
   ],
   "metadata": {
    "collapsed": false,
    "ExecuteTime": {
     "end_time": "2023-12-13T21:46:01.387189600Z",
     "start_time": "2023-12-13T21:46:01.265020400Z"
    }
   },
   "id": "826fced79c026eef"
  },
  {
   "cell_type": "markdown",
   "source": [
    "## Правило Копланда"
   ],
   "metadata": {
    "collapsed": false
   },
   "id": "4863545fdbb4f2b9"
  },
  {
   "cell_type": "code",
   "execution_count": 58,
   "outputs": [
    {
     "data": {
      "text/plain": "   Бали Копленда\nA              1\nB             -1\nC              3\nD             -3",
      "text/html": "<div>\n<style scoped>\n    .dataframe tbody tr th:only-of-type {\n        vertical-align: middle;\n    }\n\n    .dataframe tbody tr th {\n        vertical-align: top;\n    }\n\n    .dataframe thead th {\n        text-align: right;\n    }\n</style>\n<table border=\"1\" class=\"dataframe\">\n  <thead>\n    <tr style=\"text-align: right;\">\n      <th></th>\n      <th>Бали Копленда</th>\n    </tr>\n  </thead>\n  <tbody>\n    <tr>\n      <th>A</th>\n      <td>1</td>\n    </tr>\n    <tr>\n      <th>B</th>\n      <td>-1</td>\n    </tr>\n    <tr>\n      <th>C</th>\n      <td>3</td>\n    </tr>\n    <tr>\n      <th>D</th>\n      <td>-3</td>\n    </tr>\n  </tbody>\n</table>\n</div>"
     },
     "metadata": {},
     "output_type": "display_data"
    },
    {
     "name": "stdout",
     "output_type": "stream",
     "text": [
      "Winner:  C\n"
     ]
    }
   ],
   "source": [
    "def getCopeland(m, votes, candidates):\n",
    "    num_candidates = len(candidates)\n",
    "    copeland_scores = [0] * num_candidates\n",
    "\n",
    "    for i in range(num_candidates): \n",
    "        for j in range(num_candidates):  \n",
    "            if i != j:  \n",
    "                wins = 0 \n",
    "                res = getRelativeResults(m, votes, candidates)\n",
    "                k_i = res[candidates[i]]\n",
    "                k_j = res[candidates[j]]\n",
    "                if k_i > k_j:  \n",
    "                    wins += 1\n",
    "                elif k_i < k_j: \n",
    "                    wins -= 1\n",
    "                copeland_scores[i] += wins\n",
    "\n",
    "    max_score = max(copeland_scores)\n",
    "    winner = candidates[copeland_scores.index(max_score)]\n",
    "\n",
    "    return winner, copeland_scores\n",
    "\n",
    "copeland_winner, copeland_scores = getCopeland(matrix, votes, candidates)\n",
    "\n",
    "display(pd.DataFrame(copeland_scores, index=candidates, columns=[\"Бали Копленда\"]))\n",
    "print(\"Winner: \", copeland_winner)"
   ],
   "metadata": {
    "collapsed": false,
    "ExecuteTime": {
     "end_time": "2023-12-13T21:46:01.389486500Z",
     "start_time": "2023-12-13T21:46:01.281613500Z"
    }
   },
   "id": "d457e4e1e5e1a132"
  },
  {
   "cell_type": "markdown",
   "source": [
    "## Правило Сімпсона"
   ],
   "metadata": {
    "collapsed": false
   },
   "id": "e2224a4d911b26f0"
  },
  {
   "cell_type": "code",
   "execution_count": 59,
   "outputs": [
    {
     "data": {
      "text/plain": "   0\nA  1\nB  1\nC  1\nD  3",
      "text/html": "<div>\n<style scoped>\n    .dataframe tbody tr th:only-of-type {\n        vertical-align: middle;\n    }\n\n    .dataframe tbody tr th {\n        vertical-align: top;\n    }\n\n    .dataframe thead th {\n        text-align: right;\n    }\n</style>\n<table border=\"1\" class=\"dataframe\">\n  <thead>\n    <tr style=\"text-align: right;\">\n      <th></th>\n      <th>0</th>\n    </tr>\n  </thead>\n  <tbody>\n    <tr>\n      <th>A</th>\n      <td>1</td>\n    </tr>\n    <tr>\n      <th>B</th>\n      <td>1</td>\n    </tr>\n    <tr>\n      <th>C</th>\n      <td>1</td>\n    </tr>\n    <tr>\n      <th>D</th>\n      <td>3</td>\n    </tr>\n  </tbody>\n</table>\n</div>"
     },
     "metadata": {},
     "output_type": "display_data"
    },
    {
     "name": "stdout",
     "output_type": "stream",
     "text": [
      "Winner:  A\n"
     ]
    }
   ],
   "source": [
    "def getSimpson(m, votes, candidates):\n",
    "    num_candidates = len(candidates)\n",
    "    num_votes = len(votes)\n",
    "\n",
    "    losses = [0] * num_candidates\n",
    "\n",
    "    for i in range(num_candidates): \n",
    "        for j in range(num_candidates): \n",
    "            if i != j: \n",
    "                wins = 0  \n",
    "                for k in range(num_votes): \n",
    "                    k_i = m[k].index(candidates[i]) if candidates[i] in m[k] else 0\n",
    "                    k_j = m[k].index(candidates[j]) if candidates[j] in m[k] else 0\n",
    "                    if k_i > k_j:  \n",
    "                        wins += votes[k]\n",
    "                    elif k_i < k_j:  \n",
    "                        wins -= votes[k]\n",
    "                if wins < 0:  \n",
    "                    losses[i] += 1\n",
    "\n",
    "    min_losses = min(losses)\n",
    "    winner = candidates[losses.index(min_losses)]\n",
    "\n",
    "    return winner, losses\n",
    "\n",
    "simpson_winner, simpson_losses = getSimpson(matrix, votes, candidates)\n",
    "display(pd.DataFrame(simpson_losses, index = candidates))\n",
    "\n",
    "print(\"Winner: \", simpson_winner)"
   ],
   "metadata": {
    "collapsed": false,
    "ExecuteTime": {
     "end_time": "2023-12-13T21:46:01.404093800Z",
     "start_time": "2023-12-13T21:46:01.289641900Z"
    }
   },
   "id": "ef3441c93f7893e1"
  },
  {
   "cell_type": "code",
   "execution_count": 59,
   "outputs": [],
   "source": [],
   "metadata": {
    "collapsed": false,
    "ExecuteTime": {
     "end_time": "2023-12-13T21:46:01.404093800Z",
     "start_time": "2023-12-13T21:46:01.299942100Z"
    }
   },
   "id": "d38ff0d07abdd69a"
  }
 ],
 "metadata": {
  "kernelspec": {
   "display_name": "Python 3",
   "language": "python",
   "name": "python3"
  },
  "language_info": {
   "codemirror_mode": {
    "name": "ipython",
    "version": 2
   },
   "file_extension": ".py",
   "mimetype": "text/x-python",
   "name": "python",
   "nbconvert_exporter": "python",
   "pygments_lexer": "ipython2",
   "version": "2.7.6"
  }
 },
 "nbformat": 4,
 "nbformat_minor": 5
}
