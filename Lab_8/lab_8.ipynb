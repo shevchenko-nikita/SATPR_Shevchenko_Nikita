{
 "cells": [
  {
   "cell_type": "code",
   "execution_count": 3,
   "id": "initial_id",
   "metadata": {
    "collapsed": true,
    "ExecuteTime": {
     "end_time": "2023-12-12T21:39:59.775878900Z",
     "start_time": "2023-12-12T21:39:59.298431200Z"
    }
   },
   "outputs": [
    {
     "name": "stdout",
     "output_type": "stream",
     "text": [
      "Оптимальний план:\n",
      "[[ 50.   0. 150. 150.   0.]\n",
      " [160. 170.   0.   0.   0.]\n",
      " [  0.   0.  70.   0. 200.]]\n",
      "\n",
      "Total Cost: 5090.0\n"
     ]
    }
   ],
   "source": [
    "import numpy as np\n",
    "from scipy.optimize import linprog\n",
    "\n",
    "\n",
    "costs = np.array([[3, 12, 9, 1, 7],\n",
    "                  [2, 4, 11, 2, 10],\n",
    "                  [7, 14, 12, 5, 8]])\n",
    "\n",
    "\n",
    "supply = np.array([350, 330, 270])\n",
    "demand = np.array([210, 170, 220, 150, 200])\n",
    "\n",
    "c = costs.flatten()\n",
    "\n",
    "A_eq = np.zeros((len(supply) + len(demand), len(c)))\n",
    "b_eq = np.zeros(len(supply) + len(demand))\n",
    "\n",
    "for i in range(len(supply)):\n",
    "    A_eq[i, i * len(demand):(i + 1) * len(demand)] = 1\n",
    "    b_eq[i] = supply[i]\n",
    "\n",
    "\n",
    "for j in range(len(demand)):\n",
    "    A_eq[len(supply) + j, j:len(c):len(demand)] = 1\n",
    "    b_eq[len(supply) + j] = demand[j]\n",
    "\n",
    "result = linprog(c, A_eq=A_eq, b_eq=b_eq, method='highs')\n",
    "solution = result.x.reshape(costs.shape)\n",
    "\n",
    "\n",
    "print(\"Оптимальний план:\")\n",
    "print(solution)\n",
    "print(\"\\nTotal Cost:\", result.fun)"
   ]
  },
  {
   "cell_type": "code",
   "execution_count": null,
   "outputs": [],
   "source": [],
   "metadata": {
    "collapsed": false
   },
   "id": "d8478debf245b365"
  }
 ],
 "metadata": {
  "kernelspec": {
   "display_name": "Python 3",
   "language": "python",
   "name": "python3"
  },
  "language_info": {
   "codemirror_mode": {
    "name": "ipython",
    "version": 2
   },
   "file_extension": ".py",
   "mimetype": "text/x-python",
   "name": "python",
   "nbconvert_exporter": "python",
   "pygments_lexer": "ipython2",
   "version": "2.7.6"
  }
 },
 "nbformat": 4,
 "nbformat_minor": 5
}
